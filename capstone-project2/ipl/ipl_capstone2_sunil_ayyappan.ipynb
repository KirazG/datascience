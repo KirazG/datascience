{
 "cells": [
  {
   "cell_type": "markdown",
   "metadata": {},
   "source": [
    "<img src=\"https://github.com/sunilayyaps/datascience/blob/master/capstone-project2/ipl/images/vivo-ipl-2018.jpg?raw=true\">\n",
    "\n",
    "# Indian Premier League - Introduction\n",
    "IPL competition is played amongst 8 elite clubs. The format of the game is very simple – each team will face the other 7 teams twice once in their home ground and then in other team’s ground. At the end of all the 56 matches, the top four will qualify for the playoff. The first two ranked team will play against each other in Qualifier 1 and the third and fourth team will play against each other in Qualifier 2. The winner of Qualifier 1 one will be qualified for the final and the loser will play against the winner of Qualifier 2 in the Eliminator. \n",
    "\n",
    "Group games do not necessarily end with one side winning. They can either have ‘no result’ if weather prevents the game from being finished or be ‘Super-over if both teams end on the same score. In the knock out rounds, ‘no result’ games are replayed on a reserve day and ‘tied’ matches are decided by ‘super-over, ensuring that there is always a winner.\n",
    "\n",
    "In each IPL team, a total of 11 players will play the match and it must comprise of 7 Indians and 4 foreign players. The rule of 7 Indians is mandatory and was introduced to promote local players. So one of the challenges all the team faces in each match is to select the 4 foreign players from a total of 8 players. \n",
    "\n",
    "**I am trying to solve three problems **\n",
    "\n",
    "**1. Predict the outcome**\n",
    "To predict the result of a T-20 IPL match based on various parameters such Home advantage, First Bat, Ground conditions, Toss, Team combinations. \n",
    "\n",
    "**2. To assist the coach & captain in team selection** \n",
    "Who should be included on each grounds against each opposition? Who is probably going to perform better? \n",
    "\n",
    "**3. Fantasy League Prediction**\n",
    "What should be the composition of your fantasy league team? Fantasy league team is a visual game played by the cricket fans. In a day, the fans are allowed to pick their playing 11 from the four teams who play on a day. \n",
    "\n",
    "\n",
    "### Steps for predicting the outcome\n",
    "1. We will clean our dataset\n",
    "2. Split it into training and testing data (12 features & 1 target (winning team (Home/Away/Tie))\n",
    "3. Train 3 different classifiers on the data -Logistic Regression -Support Vector Machine -XGBoost\n",
    "4. Use the best Classifer to predict who will win given an away team and a home team\n",
    "\n",
    "\n"
   ]
  },
  {
   "cell_type": "code",
   "execution_count": 1,
   "metadata": {},
   "outputs": [
    {
     "data": {
      "text/html": [
       "<style>\n",
       "table {float:left}\n",
       "</style>"
      ],
      "text/plain": [
       "<IPython.core.display.HTML object>"
      ]
     },
     "metadata": {},
     "output_type": "display_data"
    }
   ],
   "source": [
    "%%html\n",
    "<style>\n",
    "table {float:left}\n",
    "</style>"
   ]
  },
  {
   "cell_type": "markdown",
   "metadata": {},
   "source": [
    "## Previous IPL Winners\n",
    "\n",
    "\n",
    "|YEAR | WINNERS | RUNNERS-UP | \n",
    "|-- | -- | -- |\n",
    "|2008 | Rajasthan Royals | Chennai Super Kings | \n",
    "|2009 | Deccan Chargers | Royal Challengers Bangalore | \n",
    "|2010 | Chennai Super Kings | Mumbai Indians | \n",
    "|2011 | Chennai Super Kings | Royal Challengers Bangalore | \n",
    "|2012 | Kolkata Knight Riders | Chennai Super Kings | \n",
    "|2013 | Mumbai Indians | Chennai Super Kings | \n",
    "|2014 | Kolkata Knight Riders | Kings XI Punjab |\n",
    "|2015 | Mumbai Indians | Chennai Super Kings | \n",
    "|2016 | Sunrisers Hyderabad | Royal Challengers Bangalore\n",
    "|2017 | Mumbai Indians | Pune Supergiants   \n"
   ]
  },
  {
   "cell_type": "markdown",
   "metadata": {},
   "source": [
    "## Some Data Points to Consider\n",
    "- In 2008 IPL started with 8 teams - Chennai Super Kings, Rajasthan Royals, Kolkata Knight Riders, Mumbai Indians, Kings XI, Deccan Chargers, Royal Challengers, Delhi DareDevils\n",
    "- In 2011 - Two more teams were introduced - Pune Warriors and Kochi Tuskers. But after 2013, both these teams were terminated for breaching its terms of agreement.\n",
    "- In 2013 - Deccan chargers were sold & renamed as Sunrisers Hyderabad.\n",
    "- In 2016 - Two popular teams who were previous champions Chennai Super Kings and Rajasthan Royals was suspended for two years. Just to keep up with the number of matches two new teams Pune Supergiants and Gujarat Lions took their place and played 2016 and 2017 season\n",
    "- In 2018 - Both the suspended teams are returning replacing the Pune Supergiants and Gujarat Lions\n",
    "- In our datasets, you will be seeing this inconsistency in the team accross the season. This is not a data issue but because of all the events happened. \n",
    "\n",
    "<div class=\"span10 alert alert-danger\">\n",
    "<b>Important Note</b>\n",
    "</div>  \n",
    "\n",
    "<div class=\"span10 alert alert-warning\">\n",
    "<b>Warning Note</b>\n",
    "</div>  \n",
    "\n",
    "<div class=\"span10 alert alert-info\">\n",
    "<b>Info</b>\n",
    "</div> \n",
    "\n",
    "\n",
    "<div class=\"span25 alert alert-danger\">\n",
    "\n",
    "<b> For easy reading all teams will be referred by their ABBR in notes but will be referred with full names in charts </b>  \n",
    "<br>\n",
    "- Rajasthan Royals - RR  <br>\n",
    "- Chennai Super Kings - CSK  <br>\n",
    "- Mumbai Indians - MI  <br>\n",
    "- Royal Challengers Bangalore - RCB <br>\n",
    "- Sunrisers Hyderabad - SRH <br>\n",
    "- Kolkata Knight Riders - KKR   <br>\n",
    "- Kings XI Punjab - KXI    <br>\n",
    "- Delhi Daredevils - DD    <br>\n",
    "- Rising Pune Supergiants - RPS    <br>\n",
    "- Gujarat Lions - GL    <br>\n",
    "- Pune Warriors - PW  <br>\n",
    "- Kochi Tuskers Kerala - KTK    <br>\n",
    "</div>"
   ]
  },
  {
   "cell_type": "markdown",
   "metadata": {},
   "source": [
    "## Datasets\n",
    "**1. ipl_all_season_matches.csv**  \n",
    "All the matches played from 2008-2017  (https://www.kaggle.com/gaurav896/ipl-analysis/data)  \n",
    "**2. ipl_all_season_ball_by_ball.csv**   \n",
    "All the ball-by-ball scorecard from 2008 - 2017 (https://www.kaggle.com/gaurav896/ipl-analysis/data)  \n",
    "**3. ipl_2018_auction.xls**  \n",
    "Scraped the auction information from ndtv sports  \n",
    "https://sports.ndtv.com/indian-premier-league-2018/auction\n"
   ]
  },
  {
   "cell_type": "markdown",
   "metadata": {},
   "source": [
    "<div class=\"span25 alert alert-danger\"> <br>\n",
    "My thanks and credit to <b>Gaurav Chauhan </b>and <b>NDTV sports</b> for the datasets.  \n",
    "</div>"
   ]
  },
  {
   "cell_type": "markdown",
   "metadata": {},
   "source": [
    "<div class=\"span25 alert alert-warning\">\n",
    "<b>Other References</b>  \n",
    "<br> <b><a href = \"https://pdfs.semanticscholar.org/4667/1ddcbb7bcee189ede56937c440b2ec4d0147.pdf\"> Autoplay : A Data mining approach to ODI cricket simulation and prediction</a> </b><br> \n",
    "<b> <a href = \"http://ijcst.com/vol54/Spl1/11-Vikas-Kumar.pdf\"> Evaluation of a Batsman’s Performance in Cricket Using Fuzzy Logic </a></b><br>\n",
    "<b><a href = \"https://arxiv.org/pdf/1511.05837.pdf\"> Using Machine Learning to Predict the Outcome of English County twenty over Cricket Matches </a></b>  <br>\n",
    "</div>\n"
   ]
  },
  {
   "cell_type": "markdown",
   "metadata": {},
   "source": [
    "\n",
    "## Data Cleaning\n",
    "We will start with checking what kind of data we have and if needed clean and wrangle them,\n",
    "\n",
    "\n",
    "## Common Problems Found in this Dataset\n",
    "- Inconsistent column names\n",
    "- Missing Data\n",
    "- Outliners\n",
    "- Duplicate rows\n",
    "- Untidy\n",
    "- Need to process columns\n",
    "- Column type signal unexpected data values\n",
    "- Teams changing names such as Rising Supergiant was changed to Rising Supergiants\n",
    "\n"
   ]
  },
  {
   "cell_type": "code",
   "execution_count": 2,
   "metadata": {},
   "outputs": [
    {
     "name": "stderr",
     "output_type": "stream",
     "text": [
      "/Users/sunilayyappan/anaconda3/lib/python3.6/site-packages/statsmodels/compat/pandas.py:56: FutureWarning: The pandas.core.datetools module is deprecated and will be removed in a future version. Please use the pandas.tseries module instead.\n",
      "  from pandas.core import datetools\n",
      "/Users/sunilayyappan/anaconda3/lib/python3.6/site-packages/sklearn/cross_validation.py:41: DeprecationWarning: This module was deprecated in version 0.18 in favor of the model_selection module into which all the refactored classes and functions are moved. Also note that the interface of the new CV iterators are different from that of this module. This module will be removed in 0.20.\n",
      "  \"This module will be removed in 0.20.\", DeprecationWarning)\n"
     ]
    },
    {
     "data": {
      "text/html": [
       "\n",
       "    <div class=\"bk-root\">\n",
       "        <a href=\"https://bokeh.pydata.org\" target=\"_blank\" class=\"bk-logo bk-logo-small bk-logo-notebook\"></a>\n",
       "        <span id=\"26f51b66-f152-4fbb-a4d5-ff125c4116b6\">Loading BokehJS ...</span>\n",
       "    </div>"
      ]
     },
     "metadata": {},
     "output_type": "display_data"
    },
    {
     "data": {
      "application/javascript": [
       "\n",
       "(function(root) {\n",
       "  function now() {\n",
       "    return new Date();\n",
       "  }\n",
       "\n",
       "  var force = true;\n",
       "\n",
       "  if (typeof (root._bokeh_onload_callbacks) === \"undefined\" || force === true) {\n",
       "    root._bokeh_onload_callbacks = [];\n",
       "    root._bokeh_is_loading = undefined;\n",
       "  }\n",
       "\n",
       "  var JS_MIME_TYPE = 'application/javascript';\n",
       "  var HTML_MIME_TYPE = 'text/html';\n",
       "  var EXEC_MIME_TYPE = 'application/vnd.bokehjs_exec.v0+json';\n",
       "  var CLASS_NAME = 'output_bokeh rendered_html';\n",
       "\n",
       "  /**\n",
       "   * Render data to the DOM node\n",
       "   */\n",
       "  function render(props, node) {\n",
       "    var script = document.createElement(\"script\");\n",
       "    node.appendChild(script);\n",
       "  }\n",
       "\n",
       "  /**\n",
       "   * Handle when an output is cleared or removed\n",
       "   */\n",
       "  function handleClearOutput(event, handle) {\n",
       "    var cell = handle.cell;\n",
       "\n",
       "    var id = cell.output_area._bokeh_element_id;\n",
       "    var server_id = cell.output_area._bokeh_server_id;\n",
       "    // Clean up Bokeh references\n",
       "    if (id !== undefined) {\n",
       "      Bokeh.index[id].model.document.clear();\n",
       "      delete Bokeh.index[id];\n",
       "    }\n",
       "\n",
       "    if (server_id !== undefined) {\n",
       "      // Clean up Bokeh references\n",
       "      var cmd = \"from bokeh.io.state import curstate; print(curstate().uuid_to_server['\" + server_id + \"'].get_sessions()[0].document.roots[0]._id)\";\n",
       "      cell.notebook.kernel.execute(cmd, {\n",
       "        iopub: {\n",
       "          output: function(msg) {\n",
       "            var element_id = msg.content.text.trim();\n",
       "            Bokeh.index[element_id].model.document.clear();\n",
       "            delete Bokeh.index[element_id];\n",
       "          }\n",
       "        }\n",
       "      });\n",
       "      // Destroy server and session\n",
       "      var cmd = \"import bokeh.io.notebook as ion; ion.destroy_server('\" + server_id + \"')\";\n",
       "      cell.notebook.kernel.execute(cmd);\n",
       "    }\n",
       "  }\n",
       "\n",
       "  /**\n",
       "   * Handle when a new output is added\n",
       "   */\n",
       "  function handleAddOutput(event, handle) {\n",
       "    var output_area = handle.output_area;\n",
       "    var output = handle.output;\n",
       "\n",
       "    // limit handleAddOutput to display_data with EXEC_MIME_TYPE content only\n",
       "    if ((output.output_type != \"display_data\") || (!output.data.hasOwnProperty(EXEC_MIME_TYPE))) {\n",
       "      return\n",
       "    }\n",
       "\n",
       "    var toinsert = output_area.element.find(`.${CLASS_NAME.split(' ')[0]}`);\n",
       "\n",
       "    if (output.metadata[EXEC_MIME_TYPE][\"id\"] !== undefined) {\n",
       "      toinsert[0].firstChild.textContent = output.data[JS_MIME_TYPE];\n",
       "      // store reference to embed id on output_area\n",
       "      output_area._bokeh_element_id = output.metadata[EXEC_MIME_TYPE][\"id\"];\n",
       "    }\n",
       "    if (output.metadata[EXEC_MIME_TYPE][\"server_id\"] !== undefined) {\n",
       "      var bk_div = document.createElement(\"div\");\n",
       "      bk_div.innerHTML = output.data[HTML_MIME_TYPE];\n",
       "      var script_attrs = bk_div.children[0].attributes;\n",
       "      for (var i = 0; i < script_attrs.length; i++) {\n",
       "        toinsert[0].firstChild.setAttribute(script_attrs[i].name, script_attrs[i].value);\n",
       "      }\n",
       "      // store reference to server id on output_area\n",
       "      output_area._bokeh_server_id = output.metadata[EXEC_MIME_TYPE][\"server_id\"];\n",
       "    }\n",
       "  }\n",
       "\n",
       "  function register_renderer(events, OutputArea) {\n",
       "\n",
       "    function append_mime(data, metadata, element) {\n",
       "      // create a DOM node to render to\n",
       "      var toinsert = this.create_output_subarea(\n",
       "        metadata,\n",
       "        CLASS_NAME,\n",
       "        EXEC_MIME_TYPE\n",
       "      );\n",
       "      this.keyboard_manager.register_events(toinsert);\n",
       "      // Render to node\n",
       "      var props = {data: data, metadata: metadata[EXEC_MIME_TYPE]};\n",
       "      render(props, toinsert[0]);\n",
       "      element.append(toinsert);\n",
       "      return toinsert\n",
       "    }\n",
       "\n",
       "    /* Handle when an output is cleared or removed */\n",
       "    events.on('clear_output.CodeCell', handleClearOutput);\n",
       "    events.on('delete.Cell', handleClearOutput);\n",
       "\n",
       "    /* Handle when a new output is added */\n",
       "    events.on('output_added.OutputArea', handleAddOutput);\n",
       "\n",
       "    /**\n",
       "     * Register the mime type and append_mime function with output_area\n",
       "     */\n",
       "    OutputArea.prototype.register_mime_type(EXEC_MIME_TYPE, append_mime, {\n",
       "      /* Is output safe? */\n",
       "      safe: true,\n",
       "      /* Index of renderer in `output_area.display_order` */\n",
       "      index: 0\n",
       "    });\n",
       "  }\n",
       "\n",
       "  // register the mime type if in Jupyter Notebook environment and previously unregistered\n",
       "  if (root.Jupyter !== undefined) {\n",
       "    var events = require('base/js/events');\n",
       "    var OutputArea = require('notebook/js/outputarea').OutputArea;\n",
       "\n",
       "    if (OutputArea.prototype.mime_types().indexOf(EXEC_MIME_TYPE) == -1) {\n",
       "      register_renderer(events, OutputArea);\n",
       "    }\n",
       "  }\n",
       "\n",
       "  \n",
       "  if (typeof (root._bokeh_timeout) === \"undefined\" || force === true) {\n",
       "    root._bokeh_timeout = Date.now() + 5000;\n",
       "    root._bokeh_failed_load = false;\n",
       "  }\n",
       "\n",
       "  var NB_LOAD_WARNING = {'data': {'text/html':\n",
       "     \"<div style='background-color: #fdd'>\\n\"+\n",
       "     \"<p>\\n\"+\n",
       "     \"BokehJS does not appear to have successfully loaded. If loading BokehJS from CDN, this \\n\"+\n",
       "     \"may be due to a slow or bad network connection. Possible fixes:\\n\"+\n",
       "     \"</p>\\n\"+\n",
       "     \"<ul>\\n\"+\n",
       "     \"<li>re-rerun `output_notebook()` to attempt to load from CDN again, or</li>\\n\"+\n",
       "     \"<li>use INLINE resources instead, as so:</li>\\n\"+\n",
       "     \"</ul>\\n\"+\n",
       "     \"<code>\\n\"+\n",
       "     \"from bokeh.resources import INLINE\\n\"+\n",
       "     \"output_notebook(resources=INLINE)\\n\"+\n",
       "     \"</code>\\n\"+\n",
       "     \"</div>\"}};\n",
       "\n",
       "  function display_loaded() {\n",
       "    var el = document.getElementById(\"26f51b66-f152-4fbb-a4d5-ff125c4116b6\");\n",
       "    if (el != null) {\n",
       "      el.textContent = \"BokehJS is loading...\";\n",
       "    }\n",
       "    if (root.Bokeh !== undefined) {\n",
       "      if (el != null) {\n",
       "        el.textContent = \"BokehJS \" + root.Bokeh.version + \" successfully loaded.\";\n",
       "      }\n",
       "    } else if (Date.now() < root._bokeh_timeout) {\n",
       "      setTimeout(display_loaded, 100)\n",
       "    }\n",
       "  }\n",
       "\n",
       "\n",
       "  function run_callbacks() {\n",
       "    try {\n",
       "      root._bokeh_onload_callbacks.forEach(function(callback) { callback() });\n",
       "    }\n",
       "    finally {\n",
       "      delete root._bokeh_onload_callbacks\n",
       "    }\n",
       "    console.info(\"Bokeh: all callbacks have finished\");\n",
       "  }\n",
       "\n",
       "  function load_libs(js_urls, callback) {\n",
       "    root._bokeh_onload_callbacks.push(callback);\n",
       "    if (root._bokeh_is_loading > 0) {\n",
       "      console.log(\"Bokeh: BokehJS is being loaded, scheduling callback at\", now());\n",
       "      return null;\n",
       "    }\n",
       "    if (js_urls == null || js_urls.length === 0) {\n",
       "      run_callbacks();\n",
       "      return null;\n",
       "    }\n",
       "    console.log(\"Bokeh: BokehJS not loaded, scheduling load and callback at\", now());\n",
       "    root._bokeh_is_loading = js_urls.length;\n",
       "    for (var i = 0; i < js_urls.length; i++) {\n",
       "      var url = js_urls[i];\n",
       "      var s = document.createElement('script');\n",
       "      s.src = url;\n",
       "      s.async = false;\n",
       "      s.onreadystatechange = s.onload = function() {\n",
       "        root._bokeh_is_loading--;\n",
       "        if (root._bokeh_is_loading === 0) {\n",
       "          console.log(\"Bokeh: all BokehJS libraries loaded\");\n",
       "          run_callbacks()\n",
       "        }\n",
       "      };\n",
       "      s.onerror = function() {\n",
       "        console.warn(\"failed to load library \" + url);\n",
       "      };\n",
       "      console.log(\"Bokeh: injecting script tag for BokehJS library: \", url);\n",
       "      document.getElementsByTagName(\"head\")[0].appendChild(s);\n",
       "    }\n",
       "  };var element = document.getElementById(\"26f51b66-f152-4fbb-a4d5-ff125c4116b6\");\n",
       "  if (element == null) {\n",
       "    console.log(\"Bokeh: ERROR: autoload.js configured with elementid '26f51b66-f152-4fbb-a4d5-ff125c4116b6' but no matching script tag was found. \")\n",
       "    return false;\n",
       "  }\n",
       "\n",
       "  var js_urls = [\"https://cdn.pydata.org/bokeh/release/bokeh-0.12.10.min.js\", \"https://cdn.pydata.org/bokeh/release/bokeh-widgets-0.12.10.min.js\", \"https://cdn.pydata.org/bokeh/release/bokeh-tables-0.12.10.min.js\", \"https://cdn.pydata.org/bokeh/release/bokeh-gl-0.12.10.min.js\"];\n",
       "\n",
       "  var inline_js = [\n",
       "    function(Bokeh) {\n",
       "      Bokeh.set_log_level(\"info\");\n",
       "    },\n",
       "    \n",
       "    function(Bokeh) {\n",
       "      \n",
       "    },\n",
       "    function(Bokeh) {\n",
       "      console.log(\"Bokeh: injecting CSS: https://cdn.pydata.org/bokeh/release/bokeh-0.12.10.min.css\");\n",
       "      Bokeh.embed.inject_css(\"https://cdn.pydata.org/bokeh/release/bokeh-0.12.10.min.css\");\n",
       "      console.log(\"Bokeh: injecting CSS: https://cdn.pydata.org/bokeh/release/bokeh-widgets-0.12.10.min.css\");\n",
       "      Bokeh.embed.inject_css(\"https://cdn.pydata.org/bokeh/release/bokeh-widgets-0.12.10.min.css\");\n",
       "      console.log(\"Bokeh: injecting CSS: https://cdn.pydata.org/bokeh/release/bokeh-tables-0.12.10.min.css\");\n",
       "      Bokeh.embed.inject_css(\"https://cdn.pydata.org/bokeh/release/bokeh-tables-0.12.10.min.css\");\n",
       "    }\n",
       "  ];\n",
       "\n",
       "  function run_inline_js() {\n",
       "    \n",
       "    if ((root.Bokeh !== undefined) || (force === true)) {\n",
       "      for (var i = 0; i < inline_js.length; i++) {\n",
       "        inline_js[i].call(root, root.Bokeh);\n",
       "      }if (force === true) {\n",
       "        display_loaded();\n",
       "      }} else if (Date.now() < root._bokeh_timeout) {\n",
       "      setTimeout(run_inline_js, 100);\n",
       "    } else if (!root._bokeh_failed_load) {\n",
       "      console.log(\"Bokeh: BokehJS failed to load within specified timeout.\");\n",
       "      root._bokeh_failed_load = true;\n",
       "    } else if (force !== true) {\n",
       "      var cell = $(document.getElementById(\"26f51b66-f152-4fbb-a4d5-ff125c4116b6\")).parents('.cell').data().cell;\n",
       "      cell.output_area.append_execute_result(NB_LOAD_WARNING)\n",
       "    }\n",
       "\n",
       "  }\n",
       "\n",
       "  if (root._bokeh_is_loading === 0) {\n",
       "    console.log(\"Bokeh: BokehJS loaded, going straight to plotting\");\n",
       "    run_inline_js();\n",
       "  } else {\n",
       "    load_libs(js_urls, function() {\n",
       "      console.log(\"Bokeh: BokehJS plotting callback run at\", now());\n",
       "      run_inline_js();\n",
       "    });\n",
       "  }\n",
       "}(window));"
      ],
      "application/vnd.bokehjs_load.v0+json": "\n(function(root) {\n  function now() {\n    return new Date();\n  }\n\n  var force = true;\n\n  if (typeof (root._bokeh_onload_callbacks) === \"undefined\" || force === true) {\n    root._bokeh_onload_callbacks = [];\n    root._bokeh_is_loading = undefined;\n  }\n\n  \n\n  \n  if (typeof (root._bokeh_timeout) === \"undefined\" || force === true) {\n    root._bokeh_timeout = Date.now() + 5000;\n    root._bokeh_failed_load = false;\n  }\n\n  var NB_LOAD_WARNING = {'data': {'text/html':\n     \"<div style='background-color: #fdd'>\\n\"+\n     \"<p>\\n\"+\n     \"BokehJS does not appear to have successfully loaded. If loading BokehJS from CDN, this \\n\"+\n     \"may be due to a slow or bad network connection. Possible fixes:\\n\"+\n     \"</p>\\n\"+\n     \"<ul>\\n\"+\n     \"<li>re-rerun `output_notebook()` to attempt to load from CDN again, or</li>\\n\"+\n     \"<li>use INLINE resources instead, as so:</li>\\n\"+\n     \"</ul>\\n\"+\n     \"<code>\\n\"+\n     \"from bokeh.resources import INLINE\\n\"+\n     \"output_notebook(resources=INLINE)\\n\"+\n     \"</code>\\n\"+\n     \"</div>\"}};\n\n  function display_loaded() {\n    var el = document.getElementById(\"26f51b66-f152-4fbb-a4d5-ff125c4116b6\");\n    if (el != null) {\n      el.textContent = \"BokehJS is loading...\";\n    }\n    if (root.Bokeh !== undefined) {\n      if (el != null) {\n        el.textContent = \"BokehJS \" + root.Bokeh.version + \" successfully loaded.\";\n      }\n    } else if (Date.now() < root._bokeh_timeout) {\n      setTimeout(display_loaded, 100)\n    }\n  }\n\n\n  function run_callbacks() {\n    try {\n      root._bokeh_onload_callbacks.forEach(function(callback) { callback() });\n    }\n    finally {\n      delete root._bokeh_onload_callbacks\n    }\n    console.info(\"Bokeh: all callbacks have finished\");\n  }\n\n  function load_libs(js_urls, callback) {\n    root._bokeh_onload_callbacks.push(callback);\n    if (root._bokeh_is_loading > 0) {\n      console.log(\"Bokeh: BokehJS is being loaded, scheduling callback at\", now());\n      return null;\n    }\n    if (js_urls == null || js_urls.length === 0) {\n      run_callbacks();\n      return null;\n    }\n    console.log(\"Bokeh: BokehJS not loaded, scheduling load and callback at\", now());\n    root._bokeh_is_loading = js_urls.length;\n    for (var i = 0; i < js_urls.length; i++) {\n      var url = js_urls[i];\n      var s = document.createElement('script');\n      s.src = url;\n      s.async = false;\n      s.onreadystatechange = s.onload = function() {\n        root._bokeh_is_loading--;\n        if (root._bokeh_is_loading === 0) {\n          console.log(\"Bokeh: all BokehJS libraries loaded\");\n          run_callbacks()\n        }\n      };\n      s.onerror = function() {\n        console.warn(\"failed to load library \" + url);\n      };\n      console.log(\"Bokeh: injecting script tag for BokehJS library: \", url);\n      document.getElementsByTagName(\"head\")[0].appendChild(s);\n    }\n  };var element = document.getElementById(\"26f51b66-f152-4fbb-a4d5-ff125c4116b6\");\n  if (element == null) {\n    console.log(\"Bokeh: ERROR: autoload.js configured with elementid '26f51b66-f152-4fbb-a4d5-ff125c4116b6' but no matching script tag was found. \")\n    return false;\n  }\n\n  var js_urls = [\"https://cdn.pydata.org/bokeh/release/bokeh-0.12.10.min.js\", \"https://cdn.pydata.org/bokeh/release/bokeh-widgets-0.12.10.min.js\", \"https://cdn.pydata.org/bokeh/release/bokeh-tables-0.12.10.min.js\", \"https://cdn.pydata.org/bokeh/release/bokeh-gl-0.12.10.min.js\"];\n\n  var inline_js = [\n    function(Bokeh) {\n      Bokeh.set_log_level(\"info\");\n    },\n    \n    function(Bokeh) {\n      \n    },\n    function(Bokeh) {\n      console.log(\"Bokeh: injecting CSS: https://cdn.pydata.org/bokeh/release/bokeh-0.12.10.min.css\");\n      Bokeh.embed.inject_css(\"https://cdn.pydata.org/bokeh/release/bokeh-0.12.10.min.css\");\n      console.log(\"Bokeh: injecting CSS: https://cdn.pydata.org/bokeh/release/bokeh-widgets-0.12.10.min.css\");\n      Bokeh.embed.inject_css(\"https://cdn.pydata.org/bokeh/release/bokeh-widgets-0.12.10.min.css\");\n      console.log(\"Bokeh: injecting CSS: https://cdn.pydata.org/bokeh/release/bokeh-tables-0.12.10.min.css\");\n      Bokeh.embed.inject_css(\"https://cdn.pydata.org/bokeh/release/bokeh-tables-0.12.10.min.css\");\n    }\n  ];\n\n  function run_inline_js() {\n    \n    if ((root.Bokeh !== undefined) || (force === true)) {\n      for (var i = 0; i < inline_js.length; i++) {\n        inline_js[i].call(root, root.Bokeh);\n      }if (force === true) {\n        display_loaded();\n      }} else if (Date.now() < root._bokeh_timeout) {\n      setTimeout(run_inline_js, 100);\n    } else if (!root._bokeh_failed_load) {\n      console.log(\"Bokeh: BokehJS failed to load within specified timeout.\");\n      root._bokeh_failed_load = true;\n    } else if (force !== true) {\n      var cell = $(document.getElementById(\"26f51b66-f152-4fbb-a4d5-ff125c4116b6\")).parents('.cell').data().cell;\n      cell.output_area.append_execute_result(NB_LOAD_WARNING)\n    }\n\n  }\n\n  if (root._bokeh_is_loading === 0) {\n    console.log(\"Bokeh: BokehJS loaded, going straight to plotting\");\n    run_inline_js();\n  } else {\n    load_libs(js_urls, function() {\n      console.log(\"Bokeh: BokehJS plotting callback run at\", now());\n      run_inline_js();\n    });\n  }\n}(window));"
     },
     "metadata": {},
     "output_type": "display_data"
    }
   ],
   "source": [
    "#Declaring all libraries needed\n",
    "import pandas as pd\n",
    "import matplotlib.pyplot as plt\n",
    "import seaborn as sns\n",
    "%matplotlib inline\n",
    "import numpy as np\n",
    "import scipy.stats as stats\n",
    "import bokeh.plotting as bkp\n",
    "from mpl_toolkits.axes_grid1 import make_axes_locatable\n",
    "import statsmodels.stats.api as sms\n",
    "from scipy import stats as st\n",
    "import pandas.tseries\n",
    "#To scale our features as with linear regression\n",
    "from sklearn.cross_validation import train_test_split\n",
    "from sklearn.preprocessing import StandardScaler\n",
    "from sklearn.metrics import accuracy_score\n",
    "from sklearn.linear_model import LogisticRegression\n",
    "from sklearn.metrics import roc_auc_score\n",
    "from sklearn.metrics import classification_report\n",
    "from sklearn.metrics import roc_curve\n",
    "import matplotlib.ticker as mtick\n",
    "from sklearn.metrics import confusion_matrix\n",
    "from bokeh.io import output_notebook, show\n",
    "from bokeh.plotting import figure\n",
    "output_notebook()\n",
    "sns.set()\n"
   ]
  },
  {
   "cell_type": "code",
   "execution_count": 3,
   "metadata": {},
   "outputs": [
    {
     "name": "stdout",
     "output_type": "stream",
     "text": [
      "[2017 2008 2009 2010 2011 2012 2013 2014 2015 2016]\n"
     ]
    }
   ],
   "source": [
    "#reading all matches csv and assigning it to dataframe\n",
    "df_all_matches = pd.read_csv('data/ipl_all_season_matches.csv',header = 0)\n",
    "#checking whether all season are there\n",
    "print(df_all_matches.season.unique())"
   ]
  },
  {
   "cell_type": "markdown",
   "metadata": {},
   "source": [
    "<div class=\"span25 alert alert-info\">\n",
    "Looks like our datasets contains all seasons played so far\n",
    "</div>"
   ]
  },
  {
   "cell_type": "code",
   "execution_count": 4,
   "metadata": {},
   "outputs": [
    {
     "data": {
      "text/plain": [
       "season\n",
       "2008    58\n",
       "2009    57\n",
       "2010    60\n",
       "2011    73\n",
       "2012    74\n",
       "2013    76\n",
       "2014    60\n",
       "2015    59\n",
       "2016    60\n",
       "2017    59\n",
       "dtype: int64"
      ]
     },
     "execution_count": 4,
     "metadata": {},
     "output_type": "execute_result"
    }
   ],
   "source": [
    "#Taking a count of matches in each season\n",
    "df_all_matches.groupby(['season']).size()"
   ]
  },
  {
   "cell_type": "markdown",
   "metadata": {},
   "source": [
    "<div class=\"span25 alert alert-info\">\n",
    "In each season the numbers of matches played are of different count. This is because some of the matches might be cancelled out due to rain.From 2011-2013, there were more matches played because of introduction of two new teams. However after 2013, the total team got reduced to 8.\n",
    "</div>"
   ]
  },
  {
   "cell_type": "code",
   "execution_count": 5,
   "metadata": {},
   "outputs": [
    {
     "name": "stdout",
     "output_type": "stream",
     "text": [
      "                         winner  count\n",
      "7                Mumbai Indians     92\n",
      "0           Chennai Super Kings     79\n",
      "6         Kolkata Knight Riders     77\n",
      "11  Royal Challengers Bangalore     73\n",
      "4               Kings XI Punjab     70\n",
      "9              Rajasthan Royals     63\n",
      "2              Delhi Daredevils     62\n",
      "12          Sunrisers Hyderabad     42\n",
      "1               Deccan Chargers     29\n",
      "10      Rising Pune Supergiants     15\n",
      "3                 Gujarat Lions     13\n",
      "8                 Pune Warriors     12\n",
      "5          Kochi Tuskers Kerala      6\n"
     ]
    }
   ],
   "source": [
    "# Total number of matches won by each team \n",
    "df_all_matches_winners = df_all_matches.groupby(['winner']).size().reset_index(name='count')\n",
    "df_all_matches_winners_sorted = df_all_matches_winners.sort_values(by='count', ascending=False)\n",
    "print(df_all_matches_winners_sorted)"
   ]
  },
  {
   "cell_type": "markdown",
   "metadata": {},
   "source": [
    "## Exploratary Analysis of all the Datasets"
   ]
  },
  {
   "cell_type": "code",
   "execution_count": 27,
   "metadata": {
    "scrolled": false
   },
   "outputs": [
    {
     "data": {
      "image/png": "[encoded data removed]",
      "text/plain": [
       "<matplotlib.figure.Figure at 0x1134a3ba8>"
      ]
     },
     "metadata": {},
     "output_type": "display_data"
    }
   ],
   "source": [
    "# Data visualization of the sucessful team in IPL\n",
    "\n",
    "colors = ['#353EBF','#FFF61B','#361D7F','#BF150D','#FF8E90','#3E2BFF','#110C40','#FFAE16','#FFD083','#7716E5','#FF5529','#71B2FF','#FF7623']\n",
    "team = df_all_matches_winners_sorted['winner']\n",
    "win_count = df_all_matches_winners_sorted['count']\n",
    "fig, ax = plt.subplots()\n",
    "fig.set_size_inches(15.7, 8.27)\n",
    "sns.set_style(\"whitegrid\")\n",
    "ax = sns.barplot(x=win_count, y=team, data=df_all_matches_winners,palette=colors);\n",
    "ax.set(xlabel='No of wins', ylabel='IPL Teams',title = 'Most succesfull team in IPL',)\n",
    "plt.show()"
   ]
  },
  {
   "cell_type": "markdown",
   "metadata": {},
   "source": [
    "<div class=\"span25 alert alert-info\">\n",
    "<b>Used the team colors for the chart.</b>\n",
    "MI seems to be the most succesful team in all of the IPL seasons with 92 wins in 10 seasons followed by CSK with 79 wins in 8 seasons and KKR with 77 in 10 seasons\n",
    "</div>"
   ]
  },
  {
   "cell_type": "code",
   "execution_count": 7,
   "metadata": {},
   "outputs": [
    {
     "name": "stdout",
     "output_type": "stream",
     "text": [
      "          city  count\n",
      "21      Mumbai     85\n",
      "2    Bangalore     66\n",
      "20     Kolkata     61\n",
      "9        Delhi     60\n",
      "13   Hyderabad     49\n",
      "7      Chennai     48\n",
      "6   Chandigarh     46\n",
      "15      Jaipur     33\n"
     ]
    }
   ],
   "source": [
    "df_all_matches_venues = df_all_matches.groupby(['city']).size().reset_index(name='count')\n",
    "print(df_all_matches_venues.sort_values(by='count', ascending=False).head(8))"
   ]
  },
  {
   "cell_type": "markdown",
   "metadata": {},
   "source": [
    "<div class=\"span25 alert alert-warning\">\n",
    "For IPL 2018, we just need to consider top 8 grounds from the above list. Rest of the grounds can be ignored as some of them were used when IPL was played in South Africa, Dubai and Sharjah. Also when PW, RPS, GL and KTK were playing few new grounds were introduced as their home grounds. Since they are not playing in IPL 2018, we don't need to consider those grounds.\n",
    "</div>"
   ]
  },
  {
   "cell_type": "code",
   "execution_count": 45,
   "metadata": {},
   "outputs": [],
   "source": [
    "#create a dataframe to hold just home games and ignore the rest as per home_game flag\n",
    "df_home_games = df_all_matches[df_all_matches['home_game'] == 1]\n",
    "\n",
    "#calculate the total number of home games for 8 teams\n",
    "csk_total_home_games = len(df_home_games[df_home_games['home_team'] == 'Chennai Super Kings'])\n",
    "srh_total_home_games = len(df_home_games[df_home_games['home_team'] == 'Sunrisers Hyderabad'])\n",
    "mi_total_home_games = len(df_home_games[df_home_games['home_team'] == 'Mumbai Indians'])\n",
    "kkr_total_home_games = len(df_home_games[df_home_games['home_team'] == 'Kolkata Knight Riders'])\n",
    "kxi_total_home_games = len(df_home_games[df_home_games['home_team'] == 'Kings XI Punjab'])\n",
    "rcb_total_home_games = len(df_home_games[df_home_games['home_team'] == 'Royal Challengers Bangalore'])\n",
    "dd_total_home_games = len(df_home_games[df_home_games['home_team'] == 'Delhi Daredevils'])\n",
    "rr_total_home_games = len(df_home_games[df_home_games['home_team'] == 'Rajasthan Royals'])\n",
    "\n",
    "#calculate the total number of home wins for 8 teams\n",
    "csk_home_wins = len(df_home_games[(df_home_games.home_team == 'Chennai Super Kings') & (df_home_games.winner == 'Chennai Super Kings')])\n",
    "srh_home_wins = len(df_home_games[(df_home_games.home_team == 'Sunrisers Hyderabad') & (df_home_games.winner == 'Sunrisers Hyderabad')])\n",
    "mi_home_wins = len(df_home_games[(df_home_games.home_team == 'Mumbai Indians') & (df_home_games.winner == 'Mumbai Indians')])\n",
    "kkr_home_wins = len(df_home_games[(df_home_games.home_team == 'Kolkata Knight Riders') & (df_home_games.winner == 'Kolkata Knight Riders')])\n",
    "kxi_home_wins = len(df_home_games[(df_home_games.home_team == 'Kings XI Punjab') & (df_home_games.winner == 'Kings XI Punjab')])\n",
    "rcb_home_wins = len(df_home_games[(df_home_games.home_team == 'Royal Challengers Bangalore') & (df_home_games.winner == 'Royal Challengers Bangalore')])\n",
    "dd_home_wins = len(df_home_games[(df_home_games.home_team == 'Delhi Daredevils') & (df_home_games.winner == 'Delhi Daredevils')])\n",
    "rr_home_wins = len(df_home_games[(df_home_games.home_team == 'Rajasthan Royals') & (df_home_games.winner == 'Rajasthan Royals')])\n",
    "\n",
    "#calculate the percentage of home wins\n",
    "csk_home_win_per = round(csk_home_wins/csk_total_home_games * 100,0)\n",
    "srh_home_win_per = round(srh_home_wins/srh_total_home_games * 100,0)\n",
    "mi_home_win_per = round(mi_home_wins/mi_total_home_games * 100,0)\n",
    "kkr_home_win_per = round(kkr_home_wins/kkr_total_home_games * 100,0)\n",
    "kxi_home_win_per = round(kxi_home_wins/kxi_total_home_games * 100)\n",
    "rcb_home_win_per = round(rcb_home_wins/rcb_total_home_games * 100)\n",
    "dd_home_win_per = round(dd_home_wins/dd_total_home_games * 100)\n",
    "rr_home_win_per = round(rr_home_wins/rr_total_home_games * 100)\n"
   ]
  },
  {
   "cell_type": "code",
   "execution_count": 42,
   "metadata": {},
   "outputs": [
    {
     "data": {
      "image/png": "[encoded data removed]",
      "text/plain": [
       "<matplotlib.figure.Figure at 0x11c228160>"
      ]
     },
     "metadata": {},
     "output_type": "display_data"
    }
   ],
   "source": [
    "colors = ['#FFF61B','#3E2BFF','#FF7623','#353EBF','#361D7F','#FF8E90','#BF150D','#110C40']\n",
    "win_per = [csk_home_win_per,rr_home_win_per,srh_home_win_per,mi_home_win_per,kkr_home_win_per,kxi_home_win_per,rcb_home_win_per,dd_home_win_per]\n",
    "teams = ['CSK','RR','SRH','MI','KKR','KXI','RCB','DD']\n",
    "fig, ax = plt.subplots()\n",
    "fig.set_size_inches(15.7, 8.27)\n",
    "sns.set_style(\"whitegrid\")\n",
    "ax = sns.barplot(x=teams, y=win_per,palette=colors);\n",
    "ax.set(ylabel='No of wins', xlabel='IPL Teams')\n",
    "title = 'HOME GAME WINNING PERCENTAGE OF IPL TEAMS'\n",
    "plt.title(title,fontsize = 16)\n",
    "plt.show()"
   ]
  },
  {
   "cell_type": "markdown",
   "metadata": {
    "collapsed": true
   },
   "source": [
    "<div class=\"span25 alert alert-info\">\n",
    "The winning percentage of CSK has been teriffic on their homeground. They have a highest winning percentage of 70.21% followed by RR at 69.44%. Even Sunrisers Hyderabad are closely behind with 65.71%. But one thing to notice is that all these three teams have played less games than the other 5 teams. That could be one of the reason why their win % is pretty good at home.\n",
    "</div>"
   ]
  },
  {
   "cell_type": "code",
   "execution_count": 53,
   "metadata": {},
   "outputs": [],
   "source": [
    "#calculate the total number of home games for 8 teams\n",
    "csk_total_away_games = len(df_home_games[df_home_games['away_team'] == 'Chennai Super Kings'])\n",
    "srh_total_away_games = len(df_home_games[df_home_games['away_team'] == 'Sunrisers Hyderabad'])\n",
    "mi_total_away_games = len(df_home_games[df_home_games['away_team'] == 'Mumbai Indians'])\n",
    "kkr_total_away_games = len(df_home_games[df_home_games['away_team'] == 'Kolkata Knight Riders'])\n",
    "kxi_total_away_games = len(df_home_games[df_home_games['away_team'] == 'Kings XI Punjab'])\n",
    "rcb_total_away_games = len(df_home_games[df_home_games['away_team'] == 'Royal Challengers Bangalore'])\n",
    "dd_total_away_games = len(df_home_games[df_home_games['away_team'] == 'Delhi Daredevils'])\n",
    "rr_total_away_games = len(df_home_games[df_home_games['away_team'] == 'Rajasthan Royals'])\n",
    "\n",
    "#calculate the total number of home wins for 8 teams\n",
    "csk_away_wins = len(df_home_games[(df_home_games.away_team == 'Chennai Super Kings') & (df_home_games.winner == 'Chennai Super Kings')])\n",
    "srh_away_wins = len(df_home_games[(df_home_games.away_team == 'Sunrisers Hyderabad') & (df_home_games.winner == 'Sunrisers Hyderabad')])\n",
    "mi_away_wins = len(df_home_games[(df_home_games.away_team == 'Mumbai Indians') & (df_home_games.winner == 'Mumbai Indians')])\n",
    "kkr_away_wins = len(df_home_games[(df_home_games.away_team == 'Kolkata Knight Riders') & (df_home_games.winner == 'Kolkata Knight Riders')])\n",
    "kxi_away_wins = len(df_home_games[(df_home_games.away_team == 'Kings XI Punjab') & (df_home_games.winner == 'Kings XI Punjab')])\n",
    "rcb_away_wins = len(df_home_games[(df_home_games.away_team == 'Royal Challengers Bangalore') & (df_home_games.winner == 'Royal Challengers Bangalore')])\n",
    "dd_away_wins = len(df_home_games[(df_home_games.away_team == 'Delhi Daredevils') & (df_home_games.winner == 'Delhi Daredevils')])\n",
    "rr_away_wins = len(df_home_games[(df_home_games.away_team == 'Rajasthan Royals') & (df_home_games.winner == 'Rajasthan Royals')])\n",
    "\n",
    "#calculate the percentage of home wins\n",
    "csk_away_win_per = round(csk_away_wins/csk_total_away_games * 100,0)\n",
    "srh_away_win_per = round(srh_away_wins/srh_total_away_games * 100,0)\n",
    "mi_away_win_per = round(mi_away_wins/mi_total_away_games * 100,0)\n",
    "kkr_away_win_per = round(kkr_away_wins/kkr_total_away_games * 100,0)\n",
    "kxi_away_win_per = round(kxi_away_wins/kxi_total_away_games * 100)\n",
    "rcb_away_win_per = round(rcb_away_wins/rcb_total_away_games * 100)\n",
    "dd_away_win_per = round(dd_away_wins/dd_total_away_games * 100)\n",
    "rr_away_win_per = round(rr_away_wins/rr_total_away_games * 100)\n"
   ]
  },
  {
   "cell_type": "code",
   "execution_count": 52,
   "metadata": {},
   "outputs": [
    {
     "data": {
      "image/png": "[encoded data removed]",
      "text/plain": [
       "<matplotlib.figure.Figure at 0x11d298e10>"
      ]
     },
     "metadata": {},
     "output_type": "display_data"
    }
   ],
   "source": [
    "colors = ['#3E2BFF','#FFF61B','#361D7F','#BF150D','#FF7623','#FF8E90','#110C40','#353EBF']\n",
    "win_per = [mi_away_win_per,csk_away_win_per,kkr_away_win_per,rcb_away_win_per,srh_away_win_per,kxi_away_win_per,dd_away_win_per,rr_away_win_per]\n",
    "teams = ['MI','CSK','KKR','RCB','SRH','KXI','DD','RR']\n",
    "fig, ax = plt.subplots()\n",
    "fig.set_size_inches(15.7, 8.27)\n",
    "sns.set_style(\"whitegrid\")\n",
    "ax = sns.barplot(x=teams, y=win_per,palette=colors);\n",
    "ax.set(ylabel='No of wins', xlabel='IPL Teams')\n",
    "title = 'AWAY GAME WINNING PERCENTAGE OF IPL TEAMS'\n",
    "plt.title(title,fontsize = 16)\n",
    "plt.show()"
   ]
  },
  {
   "cell_type": "markdown",
   "metadata": {},
   "source": [
    "<div class=\"span25 alert alert-info\">\n",
    "MI leads the way in winning away games with 60% closely followed by CSK with a 57%. CSK has been excellent in winning home games and second in winning away games. This is one of the reason why they were able to make it to all the playoffs in all the seasons they have played. Delhi has been poor both in away and home games and RR has been the worst traveller of all seasons.\n",
    "</div>"
   ]
  },
  {
   "cell_type": "code",
   "execution_count": null,
   "metadata": {
    "collapsed": true
   },
   "outputs": [],
   "source": []
  }
 ],
 "metadata": {
  "kernelspec": {
   "display_name": "Python 3",
   "language": "python",
   "name": "python3"
  },
  "language_info": {
   "codemirror_mode": {
    "name": "ipython",
    "version": 3
   },
   "file_extension": ".py",
   "mimetype": "text/x-python",
   "name": "python",
   "nbconvert_exporter": "python",
   "pygments_lexer": "ipython3",
   "version": "3.6.3"
  }
 },
 "nbformat": 4,
 "nbformat_minor": 2
}
