{
 "cells": [
  {
   "cell_type": "markdown",
   "metadata": {},
   "source": [
    "# What is the True Normal Human Body Temperature? \n",
    "\n",
    "#### Background\n",
    "\n",
    "The mean normal body temperature was held to be 37$^{\\circ}$C or 98.6$^{\\circ}$F for more than 120 years since it was first conceptualized and reported by Carl Wunderlich in a famous 1868 book. But, is this value statistically correct?"
   ]
  },
  {
   "cell_type": "markdown",
   "metadata": {},
   "source": [
    "<h3>Exercises</h3>\n",
    "\n",
    "<p>In this exercise, you will analyze a dataset of human body temperatures and employ the concepts of hypothesis testing, confidence intervals, and statistical significance.</p>\n",
    "\n",
    "<p>Answer the following questions <b>in this notebook below and submit to your Github account</b>.</p> \n",
    "\n",
    "<ol>\n",
    "<li>  Is the distribution of body temperatures normal? \n",
    "    <ul>\n",
    "    <li> Although this is not a requirement for CLT to hold (read CLT carefully), it gives us some peace of mind that the population may also be normally distributed if we assume that this sample is representative of the population.\n",
    "    </ul>\n",
    "<li>  Is the sample size large? Are the observations independent?\n",
    "    <ul>\n",
    "    <li> Remember that this is a condition for the CLT, and hence the statistical tests we are using, to apply.\n",
    "    </ul>\n",
    "<li>  Is the true population mean really 98.6 degrees F?\n",
    "    <ul>\n",
    "    <li> Would you use a one-sample or two-sample test? Why?\n",
    "    <li> In this situation, is it appropriate to use the $t$ or $z$ statistic? \n",
    "    <li> Now try using the other test. How is the result be different? Why?\n",
    "    </ul>\n",
    "<li>  Draw a small sample of size 10 from the data and repeat both tests. \n",
    "    <ul>\n",
    "    <li> Which one is the correct one to use? \n",
    "    <li> What do you notice? What does this tell you about the difference in application of the $t$ and $z$ statistic?\n",
    "    </ul>\n",
    "<li>  At what temperature should we consider someone's temperature to be \"abnormal\"?\n",
    "    <ul>\n",
    "    <li> Start by computing the margin of error and confidence interval.\n",
    "    </ul>\n",
    "<li>  Is there a significant difference between males and females in normal temperature?\n",
    "    <ul>\n",
    "    <li> What test did you use and why?\n",
    "    <li> Write a story with your conclusion in the context of the original problem.\n",
    "    </ul>\n",
    "</ol>\n",
    "\n",
    "You can include written notes in notebook cells using Markdown: \n",
    "   - In the control panel at the top, choose Cell > Cell Type > Markdown\n",
    "   - Markdown syntax: http://nestacms.com/docs/creating-content/markdown-cheat-sheet\n",
    "\n",
    "#### Resources\n",
    "\n",
    "+ Information and data sources: http://www.amstat.org/publications/jse/datasets/normtemp.txt, http://www.amstat.org/publications/jse/jse_data_archive.htm\n",
    "+ Markdown syntax: http://nestacms.com/docs/creating-content/markdown-cheat-sheet\n",
    "\n",
    "****"
   ]
  },
  {
   "cell_type": "markdown",
   "metadata": {},
   "source": [
    "#Data Structure\n",
    "To check how the data looks like, try the head method to see the sample."
   ]
  },
  {
   "cell_type": "code",
   "execution_count": 7,
   "metadata": {},
   "outputs": [
    {
     "data": {
      "text/html": [
       "<div>\n",
       "<style>\n",
       "    .dataframe thead tr:only-child th {\n",
       "        text-align: right;\n",
       "    }\n",
       "\n",
       "    .dataframe thead th {\n",
       "        text-align: left;\n",
       "    }\n",
       "\n",
       "    .dataframe tbody tr th {\n",
       "        vertical-align: top;\n",
       "    }\n",
       "</style>\n",
       "<table border=\"1\" class=\"dataframe\">\n",
       "  <thead>\n",
       "    <tr style=\"text-align: right;\">\n",
       "      <th></th>\n",
       "      <th>temperature</th>\n",
       "      <th>gender</th>\n",
       "      <th>heart_rate</th>\n",
       "    </tr>\n",
       "  </thead>\n",
       "  <tbody>\n",
       "    <tr>\n",
       "      <th>0</th>\n",
       "      <td>99.3</td>\n",
       "      <td>F</td>\n",
       "      <td>68.0</td>\n",
       "    </tr>\n",
       "    <tr>\n",
       "      <th>1</th>\n",
       "      <td>98.4</td>\n",
       "      <td>F</td>\n",
       "      <td>81.0</td>\n",
       "    </tr>\n",
       "    <tr>\n",
       "      <th>2</th>\n",
       "      <td>97.8</td>\n",
       "      <td>M</td>\n",
       "      <td>73.0</td>\n",
       "    </tr>\n",
       "    <tr>\n",
       "      <th>3</th>\n",
       "      <td>99.2</td>\n",
       "      <td>F</td>\n",
       "      <td>66.0</td>\n",
       "    </tr>\n",
       "    <tr>\n",
       "      <th>4</th>\n",
       "      <td>98.0</td>\n",
       "      <td>F</td>\n",
       "      <td>73.0</td>\n",
       "    </tr>\n",
       "    <tr>\n",
       "      <th>5</th>\n",
       "      <td>99.2</td>\n",
       "      <td>M</td>\n",
       "      <td>83.0</td>\n",
       "    </tr>\n",
       "    <tr>\n",
       "      <th>6</th>\n",
       "      <td>98.0</td>\n",
       "      <td>M</td>\n",
       "      <td>71.0</td>\n",
       "    </tr>\n",
       "    <tr>\n",
       "      <th>7</th>\n",
       "      <td>98.8</td>\n",
       "      <td>M</td>\n",
       "      <td>78.0</td>\n",
       "    </tr>\n",
       "    <tr>\n",
       "      <th>8</th>\n",
       "      <td>98.4</td>\n",
       "      <td>F</td>\n",
       "      <td>84.0</td>\n",
       "    </tr>\n",
       "    <tr>\n",
       "      <th>9</th>\n",
       "      <td>98.6</td>\n",
       "      <td>F</td>\n",
       "      <td>86.0</td>\n",
       "    </tr>\n",
       "  </tbody>\n",
       "</table>\n",
       "</div>"
      ],
      "text/plain": [
       "   temperature gender  heart_rate\n",
       "0         99.3      F        68.0\n",
       "1         98.4      F        81.0\n",
       "2         97.8      M        73.0\n",
       "3         99.2      F        66.0\n",
       "4         98.0      F        73.0\n",
       "5         99.2      M        83.0\n",
       "6         98.0      M        71.0\n",
       "7         98.8      M        78.0\n",
       "8         98.4      F        84.0\n",
       "9         98.6      F        86.0"
      ]
     },
     "execution_count": 7,
     "metadata": {},
     "output_type": "execute_result"
    }
   ],
   "source": [
    "import matplotlib.pyplot as plt\n",
    "import pylab as pl\n",
    "import seaborn as sns\n",
    "import scipy.stats as stats\n",
    "import pandas as pd\n",
    "df = pd.read_csv('data/human_body_temperature.csv')\n",
    "df.head(10)"
   ]
  },
  {
   "cell_type": "markdown",
   "metadata": {
    "collapsed": true
   },
   "source": [
    "#1. Is the distribution of body temperatures normal?"
   ]
  },
  {
   "cell_type": "code",
   "execution_count": 26,
   "metadata": {},
   "outputs": [
    {
     "data": {
      "text/html": [
       "<div>\n",
       "<style>\n",
       "    .dataframe thead tr:only-child th {\n",
       "        text-align: right;\n",
       "    }\n",
       "\n",
       "    .dataframe thead th {\n",
       "        text-align: left;\n",
       "    }\n",
       "\n",
       "    .dataframe tbody tr th {\n",
       "        vertical-align: top;\n",
       "    }\n",
       "</style>\n",
       "<table border=\"1\" class=\"dataframe\">\n",
       "  <thead>\n",
       "    <tr style=\"text-align: right;\">\n",
       "      <th></th>\n",
       "      <th>temperature</th>\n",
       "      <th>heart_rate</th>\n",
       "    </tr>\n",
       "  </thead>\n",
       "  <tbody>\n",
       "    <tr>\n",
       "      <th>count</th>\n",
       "      <td>130.000000</td>\n",
       "      <td>130.000000</td>\n",
       "    </tr>\n",
       "    <tr>\n",
       "      <th>mean</th>\n",
       "      <td>98.249231</td>\n",
       "      <td>73.761538</td>\n",
       "    </tr>\n",
       "    <tr>\n",
       "      <th>std</th>\n",
       "      <td>0.733183</td>\n",
       "      <td>7.062077</td>\n",
       "    </tr>\n",
       "    <tr>\n",
       "      <th>min</th>\n",
       "      <td>96.300000</td>\n",
       "      <td>57.000000</td>\n",
       "    </tr>\n",
       "    <tr>\n",
       "      <th>25%</th>\n",
       "      <td>97.800000</td>\n",
       "      <td>69.000000</td>\n",
       "    </tr>\n",
       "    <tr>\n",
       "      <th>50%</th>\n",
       "      <td>98.300000</td>\n",
       "      <td>74.000000</td>\n",
       "    </tr>\n",
       "    <tr>\n",
       "      <th>75%</th>\n",
       "      <td>98.700000</td>\n",
       "      <td>79.000000</td>\n",
       "    </tr>\n",
       "    <tr>\n",
       "      <th>max</th>\n",
       "      <td>100.800000</td>\n",
       "      <td>89.000000</td>\n",
       "    </tr>\n",
       "  </tbody>\n",
       "</table>\n",
       "</div>"
      ],
      "text/plain": [
       "       temperature  heart_rate\n",
       "count   130.000000  130.000000\n",
       "mean     98.249231   73.761538\n",
       "std       0.733183    7.062077\n",
       "min      96.300000   57.000000\n",
       "25%      97.800000   69.000000\n",
       "50%      98.300000   74.000000\n",
       "75%      98.700000   79.000000\n",
       "max     100.800000   89.000000"
      ]
     },
     "execution_count": 26,
     "metadata": {},
     "output_type": "execute_result"
    }
   ],
   "source": [
    "df.describe()"
   ]
  },
  {
   "cell_type": "code",
   "execution_count": 11,
   "metadata": {
    "scrolled": true
   },
   "outputs": [
    {
     "data": {
      "image/png": "[encoded data removed]",
      "text/plain": [
       "<matplotlib.figure.Figure at 0x1a170004a8>"
      ]
     },
     "metadata": {},
     "output_type": "display_data"
    }
   ],
   "source": [
    "sns.set\n",
    "%matplotlib inline\n",
    "import scipy.stats as st\n",
    "import numpy as np\n",
    "df_sorted = sorted(df['temperature'])\n",
    "fit = stats.norm.pdf(df_sorted, np.mean(df_sorted), np.std(df_sorted))  #this is a fitting indeed\n",
    "pl.plot(df_sorted,fit,'-o')\n",
    "pl.hist(df_sorted,normed=True,color='#99d8c9')      #use this to draw histogram of your data\n",
    "_ = plt.xlabel('Temperature')\n",
    "_ = plt.ylabel('Frequency')\n",
    "_ = plt.title('Distribution of Body Temperature')\n",
    "pl.show() \n",
    "\n"
   ]
  },
  {
   "cell_type": "markdown",
   "metadata": {},
   "source": [
    "The distribution in the given data is slightly skewed towards the right but does look like a normal distribution curve."
   ]
  },
  {
   "cell_type": "markdown",
   "metadata": {},
   "source": [
    "#2.Is the sample size large? Are the observations independent?\n",
    "So in the given sample there are 65 male and 65 female readings. The sample does have more than 30 records each for both the genders. Hence we can conclude that the sample size is large. "
   ]
  },
  {
   "cell_type": "code",
   "execution_count": 21,
   "metadata": {},
   "outputs": [
    {
     "name": "stdout",
     "output_type": "stream",
     "text": [
      "Total number of samples -  130\n",
      "Total number of types -  3\n",
      "['temperature', 'gender', 'heart_rate']\n"
     ]
    }
   ],
   "source": [
    "sample = len(df)\n",
    "types = len(list(df.columns))\n",
    "print('Total number of samples - ', sample)\n",
    "print('Total number of types - ',  types)\n",
    "print(list(df.columns))"
   ]
  },
  {
   "cell_type": "code",
   "execution_count": 27,
   "metadata": {},
   "outputs": [
    {
     "data": {
      "text/plain": [
       "M    65\n",
       "F    65\n",
       "Name: gender, dtype: int64"
      ]
     },
     "execution_count": 27,
     "metadata": {},
     "output_type": "execute_result"
    }
   ],
   "source": [
    "df[\"gender\"].value_counts()"
   ]
  },
  {
   "cell_type": "markdown",
   "metadata": {},
   "source": [
    "The sample sets contains equal number of male and female observations and each of them are tied to a certain individual and are independent from each other. This is a classic example of Poisson process."
   ]
  },
  {
   "cell_type": "code",
   "execution_count": 16,
   "metadata": {},
   "outputs": [
    {
     "data": {
      "image/png": "[encoded data removed]",
      "text/plain": [
       "<matplotlib.figure.Figure at 0x1a1f8b95c0>"
      ]
     },
     "metadata": {},
     "output_type": "display_data"
    }
   ],
   "source": [
    "import matplotlib.pyplot as plt\n",
    "import numpy as np\n",
    "import seaborn as sns\n",
    "\n",
    "sns.set_style(\"darkgrid\")\n",
    "male = df.loc[df['gender'] == 'M']\n",
    "female = df.loc[df['gender'] == 'F']\n",
    "plt.plot(male['temperature'],color='blue',label='Male')\n",
    "plt.plot(female['temperature'],color='pink',label='Female')\n",
    "_ = plt.xlabel('Temperature')\n",
    "_ = plt.ylabel('Frequency')\n",
    "_ = plt.title('Distribution of Body Temperature - Male & Female')\n",
    "plt.legend()\n",
    "plt.show()\n"
   ]
  },
  {
   "cell_type": "markdown",
   "metadata": {},
   "source": [
    "#3.Is the true population mean really 98.6 degrees F?\n",
    "\n",
    "### Would you use a one-sample or two-sample test? Why?\n",
    "I think it's better to use a one-sample test because we are trying to compare a small group mean to the accepted population mean. \n",
    "### In this situation, is it appropriate to use the  tt  or  zz  statistic?\n",
    "We should use the t statistic since the population's standard deviation is unknown.\n"
   ]
  },
  {
   "cell_type": "code",
   "execution_count": 37,
   "metadata": {},
   "outputs": [
    {
     "name": "stdout",
     "output_type": "stream",
     "text": [
      "Mean temperature of the sample is: 98.25\n"
     ]
    }
   ],
   "source": [
    "mean_temp = df['temperature'].mean()\n",
    "print('Mean temperature of the sample is: {:.2f}'.format(mean_temp))"
   ]
  },
  {
   "cell_type": "markdown",
   "metadata": {},
   "source": [
    "We need to compare the sample mean to the population mean of 98.6.\n"
   ]
  },
  {
   "cell_type": "code",
   "execution_count": 38,
   "metadata": {},
   "outputs": [
    {
     "name": "stdout",
     "output_type": "stream",
     "text": [
      "The t-statistic is -5.455 and the p-value is 0.0000002411.\n"
     ]
    }
   ],
   "source": [
    "one_sample = st.ttest_1samp(df['temperature'], popmean=98.6)\n",
    "print('The t-statistic is %.3f and the p-value is %.10f.' % one_sample)"
   ]
  },
  {
   "cell_type": "markdown",
   "metadata": {},
   "source": [
    "It is unlikely that we would get a sample mean of 98.25. So we can reject this null hypothesis. We can further check the work by constructing a 95% confidence interval:\n",
    "\n",
    "###Now try using the other test. How is the result be different? Why?"
   ]
  },
  {
   "cell_type": "code",
   "execution_count": 39,
   "metadata": {},
   "outputs": [
    {
     "name": "stdout",
     "output_type": "stream",
     "text": [
      "The 95% confidence interval is (98.12, 98.38).\n"
     ]
    }
   ],
   "source": [
    "bottom, top = st.t.interval(0.95, len(df['temperature'])-1, \n",
    "                             loc=np.mean(df['temperature']), \n",
    "                             scale=st.sem(df['temperature']))\n",
    "\n",
    "print('The 95% confidence interval is ({:.2f}, {:.2f}).'.format(bottom,top))"
   ]
  },
  {
   "cell_type": "markdown",
   "metadata": {},
   "source": [
    "So the 95% confidence interval is (98.12, 98.38).\n",
    "Both of these examples above show us that it is very unlikely that the true population mean is 98.6 degrees F."
   ]
  },
  {
   "cell_type": "markdown",
   "metadata": {},
   "source": [
    "#4.Draw a small sample of size 10 from the data and repeat both tests\n",
    "\n",
    "###Which one is the correct one to use?"
   ]
  },
  {
   "cell_type": "code",
   "execution_count": 62,
   "metadata": {},
   "outputs": [
    {
     "name": "stdout",
     "output_type": "stream",
     "text": [
      "Mean temperature of the sample is: 98.36\n",
      "The t-statistic is -1.798 and the p-value is 0.1057658973.\n",
      "The 95% confidence interval is (98.06, 98.66).\n"
     ]
    }
   ],
   "source": [
    "#resample with same set but picking 10 temperature randomly\n",
    "df_resample = np.random.choice(df['temperature'],size=10)\n",
    "#recalculating the mean with new mean\n",
    "mean_temp = np.mean(df_resample)\n",
    "print('Mean temperature of the sample is: {:.2f}'.format(mean_temp))\n",
    "one_sample = st.ttest_1samp(df_resample, popmean=98.6)\n",
    "print('The t-statistic is %.3f and the p-value is %.10f.' % one_sample)\n",
    "bottom, top = st.t.interval(0.95, len(df_resample)-1, \n",
    "                             loc=np.mean(df_resample), \n",
    "                             scale=st.sem(df_resample))\n",
    "\n",
    "print('The 95% confidence interval is ({:.2f}, {:.2f}).'.format(bottom,top))"
   ]
  },
  {
   "cell_type": "markdown",
   "metadata": {},
   "source": [
    "###What do you notice? What does this tell you about the difference in application of the  tt  and  zz  statistic?"
   ]
  },
  {
   "cell_type": "markdown",
   "metadata": {},
   "source": [
    "The mean temperature is now changed to 98.36 compared to 98.25 from old sample. The t-st\n",
    "\n",
    "|Calculation|OLD Sample|NEW Sample|\n",
    "|------|------|------|\n",
    "|Mean|98.25|98.36|\n",
    "|t-stat|-5.455|-1.798|\n",
    "|p-value|0.0000002411|0.1057658973|\n",
    "|95% confidence|(98.12, 98.38)|(98.06, 98.66)|\n",
    "\n",
    "\n",
    "We can conclude that as per the new sample that it is likely that the true populateion mean is 98.6 degrees F.This contradicts the results we got earlier. \n"
   ]
  },
  {
   "cell_type": "markdown",
   "metadata": {},
   "source": [
    "#5.At what temperature should we consider someone's temperature to be \"abnormal\"?\n",
    "###Start by computing the margin of error and confidence interval.\n",
    "\n",
    "Considering the impacts of making a Type I error versus a Type II error, it seems that alpha = 0.05 is an acceptable balance between the two. We don't want to create such a high threshold for a confidence interval such that we reject the null when it is true and risk getting other people sick while we also do not want to make the mistake that people are sick when they are healthy. The risk of getting others sick is slightly worse. Given the confidence interval above of (98.12, 98.38), these temperatures could be used as a threshold for an \"abnormal\" temperature, but, depending on outside circumstances, these temperatures may not indicate sickness - just abnormality.\n",
    "\n",
    "#6 Is there a significant difference between males and females in normal temperature?"
   ]
  },
  {
   "cell_type": "code",
   "execution_count": 46,
   "metadata": {},
   "outputs": [
    {
     "name": "stdout",
     "output_type": "stream",
     "text": [
      "Total number of male:  65\n",
      "Mean for male:  98.1046153846154\n",
      "Total number of female:  65\n",
      "Mean for female:  98.39384615384613\n"
     ]
    }
   ],
   "source": [
    "male = df[df['gender'] == 'M']\n",
    "female = df[df['gender'] == 'F']\n",
    "male_mean = male['temperature'].mean()\n",
    "female_mean = female['temperature'].mean()\n",
    "print('Total number of male: ',len(male)) \n",
    "print('Mean for male: ',male_mean) \n",
    "print('Total number of female: ',len(female)) \n",
    "print('Mean for female: ',female_mean) "
   ]
  },
  {
   "cell_type": "markdown",
   "metadata": {},
   "source": [
    "The mean seems to be different for male and female. "
   ]
  },
  {
   "cell_type": "code",
   "execution_count": 49,
   "metadata": {},
   "outputs": [
    {
     "name": "stdout",
     "output_type": "stream",
     "text": [
      "The t-statistic is -2.285 and the p-value is 0.024.\n"
     ]
    }
   ],
   "source": [
    "two_sample = st.ttest_ind(male['temperature'], female['temperature'])\n",
    "print('The t-statistic is %.3f and the p-value is %.3f.' % two_sample)\n"
   ]
  },
  {
   "cell_type": "markdown",
   "metadata": {},
   "source": [
    "###What test did you use and why?\n",
    "A two-sample t-test is more suitable than a one-sample t-test as used above. \n",
    "\n",
    "###Write a story with your conclusion in the context of the original problem.\n",
    "Based on the samples in the study,there is 99% confidence that the mean normal temperature of human body is between 98.12 and 98.38 F. The study also found with 95% confidence that the mean female temperature is greater than the mean male temperature.\n",
    "\n",
    "The difference between the two mean temperatures is fairly neglibigle and so, while there is statistical significance, there does not seem to be a practical need to conclude and publish different mean temperatures for different genders.\n"
   ]
  }
 ],
 "metadata": {
  "kernelspec": {
   "display_name": "Python 3",
   "language": "python",
   "name": "python3"
  },
  "language_info": {
   "codemirror_mode": {
    "name": "ipython",
    "version": 3
   },
   "file_extension": ".py",
   "mimetype": "text/x-python",
   "name": "python",
   "nbconvert_exporter": "python",
   "pygments_lexer": "ipython3",
   "version": "3.6.3"
  }
 },
 "nbformat": 4,
 "nbformat_minor": 1
}
