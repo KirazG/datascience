{
 "cells": [
  {
   "cell_type": "markdown",
   "metadata": {},
   "source": [
    "# **Capstone Project 1 - Inferential Statistics**\n",
    "Now that we've learned the basics of inferential statistics and hypothesis testing, let's apply that to the Capstone Project\n",
    "\n"
   ]
  },
  {
   "cell_type": "markdown",
   "metadata": {},
   "source": [
    "Let's do a quick recap of all the datasets associated with the capstone project by doing a preview of the data. "
   ]
  },
  {
   "cell_type": "code",
   "execution_count": 200,
   "metadata": {
    "collapsed": true
   },
   "outputs": [],
   "source": [
    "import pandas as pd\n",
    "import pylab as plt\n",
    "import seaborn as sns\n",
    "import scipy.stats as stats\n",
    "import numpy as np\n",
    "import matplotlib.pyplot as plt\n",
    "import bokeh.plotting as bkp\n",
    "from mpl_toolkits.axes_grid1 import make_axes_locatable"
   ]
  },
  {
   "cell_type": "code",
   "execution_count": 162,
   "metadata": {},
   "outputs": [
    {
     "data": {
      "text/html": [
       "<div>\n",
       "<style>\n",
       "    .dataframe thead tr:only-child th {\n",
       "        text-align: right;\n",
       "    }\n",
       "\n",
       "    .dataframe thead th {\n",
       "        text-align: left;\n",
       "    }\n",
       "\n",
       "    .dataframe tbody tr th {\n",
       "        vertical-align: top;\n",
       "    }\n",
       "</style>\n",
       "<table border=\"1\" class=\"dataframe\">\n",
       "  <thead>\n",
       "    <tr style=\"text-align: right;\">\n",
       "      <th></th>\n",
       "      <th>Year</th>\n",
       "      <th>Type</th>\n",
       "      <th>Accepted</th>\n",
       "      <th>Rejected</th>\n",
       "      <th>Received</th>\n",
       "      <th>Average</th>\n",
       "      <th>Biometrics</th>\n",
       "      <th>Review</th>\n",
       "      <th>Approved</th>\n",
       "      <th>Denied</th>\n",
       "      <th>Pending</th>\n",
       "    </tr>\n",
       "  </thead>\n",
       "  <tbody>\n",
       "    <tr>\n",
       "      <th>0</th>\n",
       "      <td>2012</td>\n",
       "      <td>Initial</td>\n",
       "      <td>152431</td>\n",
       "      <td>5395</td>\n",
       "      <td>157826</td>\n",
       "      <td>3629</td>\n",
       "      <td>124055.0</td>\n",
       "      <td>38024.0</td>\n",
       "      <td>1680</td>\n",
       "      <td>0</td>\n",
       "      <td>150751</td>\n",
       "    </tr>\n",
       "    <tr>\n",
       "      <th>1</th>\n",
       "      <td>2013</td>\n",
       "      <td>Initial</td>\n",
       "      <td>427616</td>\n",
       "      <td>16351</td>\n",
       "      <td>443967</td>\n",
       "      <td>1697</td>\n",
       "      <td>445013.0</td>\n",
       "      <td>77747.0</td>\n",
       "      <td>470352</td>\n",
       "      <td>10975</td>\n",
       "      <td>97040</td>\n",
       "    </tr>\n",
       "    <tr>\n",
       "      <th>2</th>\n",
       "      <td>2014</td>\n",
       "      <td>Initial</td>\n",
       "      <td>122424</td>\n",
       "      <td>19127</td>\n",
       "      <td>141551</td>\n",
       "      <td>488</td>\n",
       "      <td>NaN</td>\n",
       "      <td>NaN</td>\n",
       "      <td>136101</td>\n",
       "      <td>20989</td>\n",
       "      <td>62374</td>\n",
       "    </tr>\n",
       "    <tr>\n",
       "      <th>3</th>\n",
       "      <td>2014</td>\n",
       "      <td>Renewal</td>\n",
       "      <td>116476</td>\n",
       "      <td>5760</td>\n",
       "      <td>122236</td>\n",
       "      <td>1370</td>\n",
       "      <td>NaN</td>\n",
       "      <td>NaN</td>\n",
       "      <td>22235</td>\n",
       "      <td>0</td>\n",
       "      <td>94238</td>\n",
       "    </tr>\n",
       "    <tr>\n",
       "      <th>4</th>\n",
       "      <td>2015</td>\n",
       "      <td>Initial</td>\n",
       "      <td>85303</td>\n",
       "      <td>7477</td>\n",
       "      <td>92780</td>\n",
       "      <td>338</td>\n",
       "      <td>NaN</td>\n",
       "      <td>NaN</td>\n",
       "      <td>90613</td>\n",
       "      <td>19070</td>\n",
       "      <td>37994</td>\n",
       "    </tr>\n",
       "  </tbody>\n",
       "</table>\n",
       "</div>"
      ],
      "text/plain": [
       "   Year     Type  Accepted  Rejected  Received  Average  Biometrics   Review  \\\n",
       "0  2012  Initial    152431      5395    157826     3629    124055.0  38024.0   \n",
       "1  2013  Initial    427616     16351    443967     1697    445013.0  77747.0   \n",
       "2  2014  Initial    122424     19127    141551      488         NaN      NaN   \n",
       "3  2014  Renewal    116476      5760    122236     1370         NaN      NaN   \n",
       "4  2015  Initial     85303      7477     92780      338         NaN      NaN   \n",
       "\n",
       "   Approved  Denied  Pending  \n",
       "0      1680       0   150751  \n",
       "1    470352   10975    97040  \n",
       "2    136101   20989    62374  \n",
       "3     22235       0    94238  \n",
       "4     90613   19070    37994  "
      ]
     },
     "execution_count": 162,
     "metadata": {},
     "output_type": "execute_result"
    }
   ],
   "source": [
    "df_case_status = df = pd.read_excel('data/case-status.xls',header=1)\n",
    "df_case_status.head()"
   ]
  },
  {
   "cell_type": "markdown",
   "metadata": {},
   "source": [
    "### Let's add couple of calculated columns like Accepted & Rejected Percentage"
   ]
  },
  {
   "cell_type": "code",
   "execution_count": 177,
   "metadata": {},
   "outputs": [
    {
     "data": {
      "text/html": [
       "<div>\n",
       "<style>\n",
       "    .dataframe thead tr:only-child th {\n",
       "        text-align: right;\n",
       "    }\n",
       "\n",
       "    .dataframe thead th {\n",
       "        text-align: left;\n",
       "    }\n",
       "\n",
       "    .dataframe tbody tr th {\n",
       "        vertical-align: top;\n",
       "    }\n",
       "</style>\n",
       "<table border=\"1\" class=\"dataframe\">\n",
       "  <thead>\n",
       "    <tr style=\"text-align: right;\">\n",
       "      <th></th>\n",
       "      <th>Year</th>\n",
       "      <th>Type</th>\n",
       "      <th>Accepted</th>\n",
       "      <th>Rejected</th>\n",
       "      <th>Received</th>\n",
       "      <th>Average</th>\n",
       "      <th>Biometrics</th>\n",
       "      <th>Review</th>\n",
       "      <th>Approved</th>\n",
       "      <th>Denied</th>\n",
       "      <th>Pending</th>\n",
       "      <th>Accepted_Percentage</th>\n",
       "      <th>Rejection_Percentage</th>\n",
       "    </tr>\n",
       "  </thead>\n",
       "  <tbody>\n",
       "    <tr>\n",
       "      <th>0</th>\n",
       "      <td>2012</td>\n",
       "      <td>Initial</td>\n",
       "      <td>152431</td>\n",
       "      <td>5395</td>\n",
       "      <td>157826</td>\n",
       "      <td>3629</td>\n",
       "      <td>124055.0</td>\n",
       "      <td>38024.0</td>\n",
       "      <td>1680</td>\n",
       "      <td>0</td>\n",
       "      <td>150751</td>\n",
       "      <td>96.6</td>\n",
       "      <td>3.4</td>\n",
       "    </tr>\n",
       "    <tr>\n",
       "      <th>1</th>\n",
       "      <td>2013</td>\n",
       "      <td>Initial</td>\n",
       "      <td>427616</td>\n",
       "      <td>16351</td>\n",
       "      <td>443967</td>\n",
       "      <td>1697</td>\n",
       "      <td>445013.0</td>\n",
       "      <td>77747.0</td>\n",
       "      <td>470352</td>\n",
       "      <td>10975</td>\n",
       "      <td>97040</td>\n",
       "      <td>96.3</td>\n",
       "      <td>3.7</td>\n",
       "    </tr>\n",
       "    <tr>\n",
       "      <th>2</th>\n",
       "      <td>2014</td>\n",
       "      <td>Initial</td>\n",
       "      <td>122424</td>\n",
       "      <td>19127</td>\n",
       "      <td>141551</td>\n",
       "      <td>488</td>\n",
       "      <td>NaN</td>\n",
       "      <td>NaN</td>\n",
       "      <td>136101</td>\n",
       "      <td>20989</td>\n",
       "      <td>62374</td>\n",
       "      <td>86.5</td>\n",
       "      <td>13.5</td>\n",
       "    </tr>\n",
       "    <tr>\n",
       "      <th>3</th>\n",
       "      <td>2014</td>\n",
       "      <td>Renewal</td>\n",
       "      <td>116476</td>\n",
       "      <td>5760</td>\n",
       "      <td>122236</td>\n",
       "      <td>1370</td>\n",
       "      <td>NaN</td>\n",
       "      <td>NaN</td>\n",
       "      <td>22235</td>\n",
       "      <td>0</td>\n",
       "      <td>94238</td>\n",
       "      <td>95.3</td>\n",
       "      <td>4.7</td>\n",
       "    </tr>\n",
       "    <tr>\n",
       "      <th>4</th>\n",
       "      <td>2015</td>\n",
       "      <td>Initial</td>\n",
       "      <td>85303</td>\n",
       "      <td>7477</td>\n",
       "      <td>92780</td>\n",
       "      <td>338</td>\n",
       "      <td>NaN</td>\n",
       "      <td>NaN</td>\n",
       "      <td>90613</td>\n",
       "      <td>19070</td>\n",
       "      <td>37994</td>\n",
       "      <td>91.9</td>\n",
       "      <td>8.1</td>\n",
       "    </tr>\n",
       "    <tr>\n",
       "      <th>5</th>\n",
       "      <td>2015</td>\n",
       "      <td>Renewal</td>\n",
       "      <td>363553</td>\n",
       "      <td>27997</td>\n",
       "      <td>391550</td>\n",
       "      <td>1443</td>\n",
       "      <td>NaN</td>\n",
       "      <td>NaN</td>\n",
       "      <td>419394</td>\n",
       "      <td>2285</td>\n",
       "      <td>36112</td>\n",
       "      <td>92.8</td>\n",
       "      <td>7.2</td>\n",
       "    </tr>\n",
       "    <tr>\n",
       "      <th>6</th>\n",
       "      <td>2016</td>\n",
       "      <td>Initial</td>\n",
       "      <td>73362</td>\n",
       "      <td>1204</td>\n",
       "      <td>74566</td>\n",
       "      <td>291</td>\n",
       "      <td>NaN</td>\n",
       "      <td>NaN</td>\n",
       "      <td>52789</td>\n",
       "      <td>11398</td>\n",
       "      <td>47169</td>\n",
       "      <td>98.4</td>\n",
       "      <td>1.6</td>\n",
       "    </tr>\n",
       "    <tr>\n",
       "      <th>7</th>\n",
       "      <td>2016</td>\n",
       "      <td>Renewal</td>\n",
       "      <td>187339</td>\n",
       "      <td>11113</td>\n",
       "      <td>198452</td>\n",
       "      <td>744</td>\n",
       "      <td>NaN</td>\n",
       "      <td>NaN</td>\n",
       "      <td>145913</td>\n",
       "      <td>3029</td>\n",
       "      <td>74509</td>\n",
       "      <td>94.4</td>\n",
       "      <td>5.6</td>\n",
       "    </tr>\n",
       "    <tr>\n",
       "      <th>8</th>\n",
       "      <td>2017</td>\n",
       "      <td>Initial</td>\n",
       "      <td>45557</td>\n",
       "      <td>42</td>\n",
       "      <td>45599</td>\n",
       "      <td>194</td>\n",
       "      <td>NaN</td>\n",
       "      <td>NaN</td>\n",
       "      <td>47445</td>\n",
       "      <td>9248</td>\n",
       "      <td>36033</td>\n",
       "      <td>99.9</td>\n",
       "      <td>0.1</td>\n",
       "    </tr>\n",
       "    <tr>\n",
       "      <th>9</th>\n",
       "      <td>2017</td>\n",
       "      <td>Renewal</td>\n",
       "      <td>427316</td>\n",
       "      <td>43387</td>\n",
       "      <td>470703</td>\n",
       "      <td>1602</td>\n",
       "      <td>NaN</td>\n",
       "      <td>NaN</td>\n",
       "      <td>415268</td>\n",
       "      <td>3945</td>\n",
       "      <td>82612</td>\n",
       "      <td>90.8</td>\n",
       "      <td>9.2</td>\n",
       "    </tr>\n",
       "  </tbody>\n",
       "</table>\n",
       "</div>"
      ],
      "text/plain": [
       "   Year     Type  Accepted  Rejected  Received  Average  Biometrics   Review  \\\n",
       "0  2012  Initial    152431      5395    157826     3629    124055.0  38024.0   \n",
       "1  2013  Initial    427616     16351    443967     1697    445013.0  77747.0   \n",
       "2  2014  Initial    122424     19127    141551      488         NaN      NaN   \n",
       "3  2014  Renewal    116476      5760    122236     1370         NaN      NaN   \n",
       "4  2015  Initial     85303      7477     92780      338         NaN      NaN   \n",
       "5  2015  Renewal    363553     27997    391550     1443         NaN      NaN   \n",
       "6  2016  Initial     73362      1204     74566      291         NaN      NaN   \n",
       "7  2016  Renewal    187339     11113    198452      744         NaN      NaN   \n",
       "8  2017  Initial     45557        42     45599      194         NaN      NaN   \n",
       "9  2017  Renewal    427316     43387    470703     1602         NaN      NaN   \n",
       "\n",
       "   Approved  Denied  Pending  Accepted_Percentage  Rejection_Percentage  \n",
       "0      1680       0   150751                 96.6                   3.4  \n",
       "1    470352   10975    97040                 96.3                   3.7  \n",
       "2    136101   20989    62374                 86.5                  13.5  \n",
       "3     22235       0    94238                 95.3                   4.7  \n",
       "4     90613   19070    37994                 91.9                   8.1  \n",
       "5    419394    2285    36112                 92.8                   7.2  \n",
       "6     52789   11398    47169                 98.4                   1.6  \n",
       "7    145913    3029    74509                 94.4                   5.6  \n",
       "8     47445    9248    36033                 99.9                   0.1  \n",
       "9    415268    3945    82612                 90.8                   9.2  "
      ]
     },
     "execution_count": 177,
     "metadata": {},
     "output_type": "execute_result"
    }
   ],
   "source": [
    "for lab, row in df_case_status.iterrows() :\n",
    "    df_case_status[\"Accepted_Percentage\"] = round(df_case_status[\"Accepted\"]/df_case_status['Received']  * 100,1)\n",
    "    df_case_status[\"Rejection_Percentage\"] = round(df_case_status[\"Rejected\"]/df_case_status['Received']  * 100,1)\n",
    "df_case_status"
   ]
  },
  {
   "cell_type": "markdown",
   "metadata": {},
   "source": [
    "### Accepted Percentage Trend from 2012 to 2017\n",
    "After Trump became the president of United States, there was no signigicant change in the trend on how the application was accepted."
   ]
  },
  {
   "cell_type": "code",
   "execution_count": 233,
   "metadata": {},
   "outputs": [
    {
     "data": {
      "image/png": "[encoded data removed]",
      "text/plain": [
       "<matplotlib.figure.Figure at 0x118952128>"
      ]
     },
     "metadata": {},
     "output_type": "display_data"
    }
   ],
   "source": [
    "sns.lmplot(x='Year', y='Accepted_Percentage', data=df_case_status, hue='Type', palette='Set1')\n",
    "# Display the plot\n",
    "plt.title('Accepted Percentage from 2012-2017')\n",
    "plt.axvline(x=2017, linewidth=3, color='green')\n",
    "plt.show()"
   ]
  },
  {
   "cell_type": "markdown",
   "metadata": {},
   "source": [
    "### Examine the Mean, Std, min, max and percentile for case status from 2012-2017\n"
   ]
  },
  {
   "cell_type": "code",
   "execution_count": 207,
   "metadata": {},
   "outputs": [
    {
     "data": {
      "text/html": [
       "<div>\n",
       "<style>\n",
       "    .dataframe thead tr:only-child th {\n",
       "        text-align: right;\n",
       "    }\n",
       "\n",
       "    .dataframe thead th {\n",
       "        text-align: left;\n",
       "    }\n",
       "\n",
       "    .dataframe tbody tr th {\n",
       "        vertical-align: top;\n",
       "    }\n",
       "</style>\n",
       "<table border=\"1\" class=\"dataframe\">\n",
       "  <thead>\n",
       "    <tr style=\"text-align: right;\">\n",
       "      <th></th>\n",
       "      <th>Year</th>\n",
       "      <th>Accepted</th>\n",
       "      <th>Rejected</th>\n",
       "      <th>Received</th>\n",
       "      <th>Average</th>\n",
       "      <th>Biometrics</th>\n",
       "      <th>Review</th>\n",
       "      <th>Approved</th>\n",
       "      <th>Denied</th>\n",
       "      <th>Pending</th>\n",
       "      <th>Accepted_Percentage</th>\n",
       "      <th>Rejection_Percentage</th>\n",
       "    </tr>\n",
       "  </thead>\n",
       "  <tbody>\n",
       "    <tr>\n",
       "      <th>count</th>\n",
       "      <td>10.00000</td>\n",
       "      <td>10.000000</td>\n",
       "      <td>10.00000</td>\n",
       "      <td>10.000000</td>\n",
       "      <td>10.000000</td>\n",
       "      <td>2.000000</td>\n",
       "      <td>2.000000</td>\n",
       "      <td>10.00000</td>\n",
       "      <td>10.000000</td>\n",
       "      <td>10.00000</td>\n",
       "      <td>10.000000</td>\n",
       "      <td>10.000000</td>\n",
       "    </tr>\n",
       "    <tr>\n",
       "      <th>mean</th>\n",
       "      <td>2014.90000</td>\n",
       "      <td>200137.700000</td>\n",
       "      <td>13785.30000</td>\n",
       "      <td>213923.000000</td>\n",
       "      <td>1179.600000</td>\n",
       "      <td>284534.000000</td>\n",
       "      <td>57885.500000</td>\n",
       "      <td>180179.00000</td>\n",
       "      <td>8093.900000</td>\n",
       "      <td>71883.20000</td>\n",
       "      <td>94.290000</td>\n",
       "      <td>5.710000</td>\n",
       "    </tr>\n",
       "    <tr>\n",
       "      <th>std</th>\n",
       "      <td>1.66333</td>\n",
       "      <td>148583.546137</td>\n",
       "      <td>13508.25036</td>\n",
       "      <td>159814.812254</td>\n",
       "      <td>1037.554946</td>\n",
       "      <td>226951.578276</td>\n",
       "      <td>28088.402669</td>\n",
       "      <td>182112.55624</td>\n",
       "      <td>7564.099953</td>\n",
       "      <td>36345.93597</td>\n",
       "      <td>3.937977</td>\n",
       "      <td>3.937977</td>\n",
       "    </tr>\n",
       "    <tr>\n",
       "      <th>min</th>\n",
       "      <td>2012.00000</td>\n",
       "      <td>45557.000000</td>\n",
       "      <td>42.00000</td>\n",
       "      <td>45599.000000</td>\n",
       "      <td>194.000000</td>\n",
       "      <td>124055.000000</td>\n",
       "      <td>38024.000000</td>\n",
       "      <td>1680.00000</td>\n",
       "      <td>0.000000</td>\n",
       "      <td>36033.00000</td>\n",
       "      <td>86.500000</td>\n",
       "      <td>0.100000</td>\n",
       "    </tr>\n",
       "    <tr>\n",
       "      <th>25%</th>\n",
       "      <td>2014.00000</td>\n",
       "      <td>93096.250000</td>\n",
       "      <td>5486.25000</td>\n",
       "      <td>100144.000000</td>\n",
       "      <td>375.500000</td>\n",
       "      <td>204294.500000</td>\n",
       "      <td>47954.750000</td>\n",
       "      <td>48781.00000</td>\n",
       "      <td>2471.000000</td>\n",
       "      <td>40287.75000</td>\n",
       "      <td>92.125000</td>\n",
       "      <td>3.475000</td>\n",
       "    </tr>\n",
       "    <tr>\n",
       "      <th>50%</th>\n",
       "      <td>2015.00000</td>\n",
       "      <td>137427.500000</td>\n",
       "      <td>9295.00000</td>\n",
       "      <td>149688.500000</td>\n",
       "      <td>1057.000000</td>\n",
       "      <td>284534.000000</td>\n",
       "      <td>57885.500000</td>\n",
       "      <td>113357.00000</td>\n",
       "      <td>6596.500000</td>\n",
       "      <td>68441.50000</td>\n",
       "      <td>94.850000</td>\n",
       "      <td>5.150000</td>\n",
       "    </tr>\n",
       "    <tr>\n",
       "      <th>75%</th>\n",
       "      <td>2016.00000</td>\n",
       "      <td>319499.500000</td>\n",
       "      <td>18433.00000</td>\n",
       "      <td>343275.500000</td>\n",
       "      <td>1562.250000</td>\n",
       "      <td>364773.500000</td>\n",
       "      <td>67816.250000</td>\n",
       "      <td>347929.25000</td>\n",
       "      <td>11292.250000</td>\n",
       "      <td>91331.50000</td>\n",
       "      <td>96.525000</td>\n",
       "      <td>7.875000</td>\n",
       "    </tr>\n",
       "    <tr>\n",
       "      <th>max</th>\n",
       "      <td>2017.00000</td>\n",
       "      <td>427616.000000</td>\n",
       "      <td>43387.00000</td>\n",
       "      <td>470703.000000</td>\n",
       "      <td>3629.000000</td>\n",
       "      <td>445013.000000</td>\n",
       "      <td>77747.000000</td>\n",
       "      <td>470352.00000</td>\n",
       "      <td>20989.000000</td>\n",
       "      <td>150751.00000</td>\n",
       "      <td>99.900000</td>\n",
       "      <td>13.500000</td>\n",
       "    </tr>\n",
       "  </tbody>\n",
       "</table>\n",
       "</div>"
      ],
      "text/plain": [
       "             Year       Accepted     Rejected       Received      Average  \\\n",
       "count    10.00000      10.000000     10.00000      10.000000    10.000000   \n",
       "mean   2014.90000  200137.700000  13785.30000  213923.000000  1179.600000   \n",
       "std       1.66333  148583.546137  13508.25036  159814.812254  1037.554946   \n",
       "min    2012.00000   45557.000000     42.00000   45599.000000   194.000000   \n",
       "25%    2014.00000   93096.250000   5486.25000  100144.000000   375.500000   \n",
       "50%    2015.00000  137427.500000   9295.00000  149688.500000  1057.000000   \n",
       "75%    2016.00000  319499.500000  18433.00000  343275.500000  1562.250000   \n",
       "max    2017.00000  427616.000000  43387.00000  470703.000000  3629.000000   \n",
       "\n",
       "          Biometrics        Review      Approved        Denied       Pending  \\\n",
       "count       2.000000      2.000000      10.00000     10.000000      10.00000   \n",
       "mean   284534.000000  57885.500000  180179.00000   8093.900000   71883.20000   \n",
       "std    226951.578276  28088.402669  182112.55624   7564.099953   36345.93597   \n",
       "min    124055.000000  38024.000000    1680.00000      0.000000   36033.00000   \n",
       "25%    204294.500000  47954.750000   48781.00000   2471.000000   40287.75000   \n",
       "50%    284534.000000  57885.500000  113357.00000   6596.500000   68441.50000   \n",
       "75%    364773.500000  67816.250000  347929.25000  11292.250000   91331.50000   \n",
       "max    445013.000000  77747.000000  470352.00000  20989.000000  150751.00000   \n",
       "\n",
       "       Accepted_Percentage  Rejection_Percentage  \n",
       "count            10.000000             10.000000  \n",
       "mean             94.290000              5.710000  \n",
       "std               3.937977              3.937977  \n",
       "min              86.500000              0.100000  \n",
       "25%              92.125000              3.475000  \n",
       "50%              94.850000              5.150000  \n",
       "75%              96.525000              7.875000  \n",
       "max              99.900000             13.500000  "
      ]
     },
     "execution_count": 207,
     "metadata": {},
     "output_type": "execute_result"
    }
   ],
   "source": [
    "df_case_status.describe()"
   ]
  },
  {
   "cell_type": "markdown",
   "metadata": {},
   "source": [
    "### Lets explore some of the datasets we have not yet explored.\n",
    "1. DACA Recipients by Country\n",
    "2. DACA Recipients by US State\n",
    "3. DACA Recipients by Status\n",
    "4. DACA Recipients by Age\n",
    "5. DACA Recipients by Sex"
   ]
  },
  {
   "cell_type": "markdown",
   "metadata": {},
   "source": [
    "### Top 4 DACA Recipients Countries (excluding Mexico) as of 2017"
   ]
  },
  {
   "cell_type": "code",
   "execution_count": 381,
   "metadata": {},
   "outputs": [
    {
     "data": {
      "text/html": [
       "<div>\n",
       "<style>\n",
       "    .dataframe thead tr:only-child th {\n",
       "        text-align: right;\n",
       "    }\n",
       "\n",
       "    .dataframe thead th {\n",
       "        text-align: left;\n",
       "    }\n",
       "\n",
       "    .dataframe tbody tr th {\n",
       "        vertical-align: top;\n",
       "    }\n",
       "</style>\n",
       "<table border=\"1\" class=\"dataframe\">\n",
       "  <thead>\n",
       "    <tr style=\"text-align: right;\">\n",
       "      <th></th>\n",
       "      <th>Country</th>\n",
       "      <th>Recipients</th>\n",
       "      <th>Yrows</th>\n",
       "      <th>Xcols</th>\n",
       "      <th>Country_Share</th>\n",
       "    </tr>\n",
       "  </thead>\n",
       "  <tbody>\n",
       "    <tr>\n",
       "      <th>0</th>\n",
       "      <td>Mexico</td>\n",
       "      <td>548000</td>\n",
       "      <td>1.0</td>\n",
       "      <td>1.0</td>\n",
       "      <td>79.4</td>\n",
       "    </tr>\n",
       "    <tr>\n",
       "      <th>1</th>\n",
       "      <td>El Salvador</td>\n",
       "      <td>25900</td>\n",
       "      <td>1.0</td>\n",
       "      <td>2.0</td>\n",
       "      <td>3.8</td>\n",
       "    </tr>\n",
       "    <tr>\n",
       "      <th>2</th>\n",
       "      <td>Guatemala</td>\n",
       "      <td>17700</td>\n",
       "      <td>1.0</td>\n",
       "      <td>3.0</td>\n",
       "      <td>2.6</td>\n",
       "    </tr>\n",
       "    <tr>\n",
       "      <th>3</th>\n",
       "      <td>Honduras</td>\n",
       "      <td>16100</td>\n",
       "      <td>1.0</td>\n",
       "      <td>4.0</td>\n",
       "      <td>2.3</td>\n",
       "    </tr>\n",
       "    <tr>\n",
       "      <th>4</th>\n",
       "      <td>Peru</td>\n",
       "      <td>7420</td>\n",
       "      <td>1.0</td>\n",
       "      <td>5.0</td>\n",
       "      <td>1.1</td>\n",
       "    </tr>\n",
       "    <tr>\n",
       "      <th>5</th>\n",
       "      <td>Korea, South</td>\n",
       "      <td>7310</td>\n",
       "      <td>2.0</td>\n",
       "      <td>1.0</td>\n",
       "      <td>1.1</td>\n",
       "    </tr>\n",
       "    <tr>\n",
       "      <th>6</th>\n",
       "      <td>Brazil</td>\n",
       "      <td>5780</td>\n",
       "      <td>2.0</td>\n",
       "      <td>2.0</td>\n",
       "      <td>0.8</td>\n",
       "    </tr>\n",
       "    <tr>\n",
       "      <th>7</th>\n",
       "      <td>Ecuador</td>\n",
       "      <td>5460</td>\n",
       "      <td>2.0</td>\n",
       "      <td>3.0</td>\n",
       "      <td>0.8</td>\n",
       "    </tr>\n",
       "    <tr>\n",
       "      <th>8</th>\n",
       "      <td>Colombia</td>\n",
       "      <td>5020</td>\n",
       "      <td>2.0</td>\n",
       "      <td>4.0</td>\n",
       "      <td>0.7</td>\n",
       "    </tr>\n",
       "    <tr>\n",
       "      <th>9</th>\n",
       "      <td>Argentina</td>\n",
       "      <td>3970</td>\n",
       "      <td>2.0</td>\n",
       "      <td>5.0</td>\n",
       "      <td>0.6</td>\n",
       "    </tr>\n",
       "  </tbody>\n",
       "</table>\n",
       "</div>"
      ],
      "text/plain": [
       "        Country  Recipients  Yrows  Xcols  Country_Share\n",
       "0        Mexico      548000    1.0    1.0           79.4\n",
       "1   El Salvador       25900    1.0    2.0            3.8\n",
       "2     Guatemala       17700    1.0    3.0            2.6\n",
       "3      Honduras       16100    1.0    4.0            2.3\n",
       "4          Peru        7420    1.0    5.0            1.1\n",
       "5  Korea, South        7310    2.0    1.0            1.1\n",
       "6        Brazil        5780    2.0    2.0            0.8\n",
       "7       Ecuador        5460    2.0    3.0            0.8\n",
       "8      Colombia        5020    2.0    4.0            0.7\n",
       "9     Argentina        3970    2.0    5.0            0.6"
      ]
     },
     "execution_count": 381,
     "metadata": {},
     "output_type": "execute_result"
    }
   ],
   "source": [
    "df_rec_country = pd.read_excel('data/daca_recipients_country.xls',header=1)\n",
    "for lab, row in df_rec_country.iterrows() :\n",
    "    df_rec_country[\"Country_Share\"] = round(df_rec_country[\"Recipients\"]/df_rec_country['Recipients'].sum()  * 100,1)\n",
    "df_rec_country.head(10)\n"
   ]
  },
  {
   "cell_type": "code",
   "execution_count": 380,
   "metadata": {},
   "outputs": [
    {
     "data": {
      "image/png": "[encoded data removed]",
      "text/plain": [
       "<matplotlib.figure.Figure at 0x1c25ba9f28>"
      ]
     },
     "metadata": {},
     "output_type": "display_data"
    }
   ],
   "source": [
    "df_rec_country_top30 = df_rec_country.head(30)\n",
    "country_name = ((np.asarray(df_rec_country_top30['Country'])).reshape(6,5))\n",
    "count = ((np.asarray(df_rec_country_top30['Recipients'])).reshape(6,5))\n",
    "result = df_rec_country_top30.pivot(index='Yrows',columns='Xcols',values='Recipients')\n",
    "labels = (np.asarray([\"{0} \\n {1:.2f}\".format(symb,value)\n",
    "                      for symb,value in zip(country_name.flatten(),\n",
    "                                            count.flatten())])\n",
    "         ).reshape(6,5)\n",
    "fig,ax = plt.subplots(figsize=(16,8))\n",
    "title = 'Top 30 countries of DACA Recipients'\n",
    "plt.title(title,fontsize = 18)\n",
    "ttl= ax.title\n",
    "ttl.set_position([0.5,1.05])\n",
    "ax.set_xticks([])\n",
    "ax.set_yticks([])\n",
    "ax.axis('off')\n",
    "sns.heatmap(result,annot=labels,fmt=\"\",cmap='viridis',linewidths=0.30,ax=ax)\n",
    "plt.show()"
   ]
  },
  {
   "cell_type": "markdown",
   "metadata": {},
   "source": [
    "### Top 30 DACA Recipients US State as of 2017"
   ]
  },
  {
   "cell_type": "code",
   "execution_count": 383,
   "metadata": {},
   "outputs": [
    {
     "data": {
      "text/html": [
       "<div>\n",
       "<style>\n",
       "    .dataframe thead tr:only-child th {\n",
       "        text-align: right;\n",
       "    }\n",
       "\n",
       "    .dataframe thead th {\n",
       "        text-align: left;\n",
       "    }\n",
       "\n",
       "    .dataframe tbody tr th {\n",
       "        vertical-align: top;\n",
       "    }\n",
       "</style>\n",
       "<table border=\"1\" class=\"dataframe\">\n",
       "  <thead>\n",
       "    <tr style=\"text-align: right;\">\n",
       "      <th></th>\n",
       "      <th>State</th>\n",
       "      <th>Recipients</th>\n",
       "      <th>Yrows</th>\n",
       "      <th>Xcols</th>\n",
       "      <th>State_Share</th>\n",
       "    </tr>\n",
       "  </thead>\n",
       "  <tbody>\n",
       "    <tr>\n",
       "      <th>0</th>\n",
       "      <td>California</td>\n",
       "      <td>197900</td>\n",
       "      <td>1.0</td>\n",
       "      <td>1.0</td>\n",
       "      <td>28.7</td>\n",
       "    </tr>\n",
       "    <tr>\n",
       "      <th>1</th>\n",
       "      <td>Texas</td>\n",
       "      <td>113000</td>\n",
       "      <td>1.0</td>\n",
       "      <td>2.0</td>\n",
       "      <td>16.4</td>\n",
       "    </tr>\n",
       "    <tr>\n",
       "      <th>2</th>\n",
       "      <td>Illinois</td>\n",
       "      <td>35600</td>\n",
       "      <td>1.0</td>\n",
       "      <td>3.0</td>\n",
       "      <td>5.2</td>\n",
       "    </tr>\n",
       "    <tr>\n",
       "      <th>3</th>\n",
       "      <td>New York</td>\n",
       "      <td>32900</td>\n",
       "      <td>1.0</td>\n",
       "      <td>4.0</td>\n",
       "      <td>4.8</td>\n",
       "    </tr>\n",
       "    <tr>\n",
       "      <th>4</th>\n",
       "      <td>Florida</td>\n",
       "      <td>27000</td>\n",
       "      <td>1.0</td>\n",
       "      <td>5.0</td>\n",
       "      <td>3.9</td>\n",
       "    </tr>\n",
       "    <tr>\n",
       "      <th>5</th>\n",
       "      <td>Arizona</td>\n",
       "      <td>25500</td>\n",
       "      <td>2.0</td>\n",
       "      <td>1.0</td>\n",
       "      <td>3.7</td>\n",
       "    </tr>\n",
       "    <tr>\n",
       "      <th>6</th>\n",
       "      <td>North Carolina</td>\n",
       "      <td>25100</td>\n",
       "      <td>2.0</td>\n",
       "      <td>2.0</td>\n",
       "      <td>3.6</td>\n",
       "    </tr>\n",
       "    <tr>\n",
       "      <th>7</th>\n",
       "      <td>Georgia</td>\n",
       "      <td>21600</td>\n",
       "      <td>2.0</td>\n",
       "      <td>3.0</td>\n",
       "      <td>3.1</td>\n",
       "    </tr>\n",
       "    <tr>\n",
       "      <th>8</th>\n",
       "      <td>New Jersey</td>\n",
       "      <td>17400</td>\n",
       "      <td>2.0</td>\n",
       "      <td>4.0</td>\n",
       "      <td>2.5</td>\n",
       "    </tr>\n",
       "    <tr>\n",
       "      <th>9</th>\n",
       "      <td>Washington</td>\n",
       "      <td>16300</td>\n",
       "      <td>2.0</td>\n",
       "      <td>5.0</td>\n",
       "      <td>2.4</td>\n",
       "    </tr>\n",
       "  </tbody>\n",
       "</table>\n",
       "</div>"
      ],
      "text/plain": [
       "            State  Recipients  Yrows  Xcols  State_Share\n",
       "0      California      197900    1.0    1.0         28.7\n",
       "1           Texas      113000    1.0    2.0         16.4\n",
       "2        Illinois       35600    1.0    3.0          5.2\n",
       "3        New York       32900    1.0    4.0          4.8\n",
       "4         Florida       27000    1.0    5.0          3.9\n",
       "5         Arizona       25500    2.0    1.0          3.7\n",
       "6  North Carolina       25100    2.0    2.0          3.6\n",
       "7         Georgia       21600    2.0    3.0          3.1\n",
       "8      New Jersey       17400    2.0    4.0          2.5\n",
       "9      Washington       16300    2.0    5.0          2.4"
      ]
     },
     "execution_count": 383,
     "metadata": {},
     "output_type": "execute_result"
    }
   ],
   "source": [
    "df_rec_state = pd.read_excel('data/daca_recipients_state.xls',header=1)\n",
    "for lab, row in df_rec_state.iterrows() :\n",
    "    df_rec_state[\"State_Share\"] = round(df_rec_state[\"Recipients\"]/df_rec_state['Recipients'].sum()  * 100,1)\n",
    "df_rec_state.head(10)"
   ]
  },
  {
   "cell_type": "code",
   "execution_count": 355,
   "metadata": {},
   "outputs": [
    {
     "data": {
      "image/png": "[encoded data removed]",
      "text/plain": [
       "<matplotlib.figure.Figure at 0x1c22df2470>"
      ]
     },
     "metadata": {},
     "output_type": "display_data"
    }
   ],
   "source": [
    "df_rec_state_top30 = df_rec_state.head(30)\n",
    "symbol = ((np.asarray(df_rec_state_top30['State'])).reshape(6,5))\n",
    "percentage = ((np.asarray(df_rec_state_top30['Recipients'])).reshape(6,5))\n",
    "result = df_rec_state_top30.pivot(index='Yrows',columns='Xcols',values='Recipients')\n",
    "labels = (np.asarray([\"{0} \\n {1:.2f}\".format(symb,value)\n",
    "                      for symb,value in zip(symbol.flatten(),\n",
    "                                            percentage.flatten())])\n",
    "         ).reshape(6,5)\n",
    "fig,ax = plt.subplots(figsize=(12,7))\n",
    "title = 'Top 30 US State for DACA Recipients'\n",
    "plt.title(title,fontsize = 18)\n",
    "ttl= ax.title\n",
    "ttl.set_position([0.5,1.05])\n",
    "ax.set_xticks([])\n",
    "ax.set_yticks([])\n",
    "ax.axis('off')\n",
    "sns.heatmap(result,annot=labels,fmt=\"\",cmap='Spectral',linewidths=0.30,ax=ax)\n",
    "plt.show()\n"
   ]
  },
  {
   "cell_type": "markdown",
   "metadata": {},
   "source": [
    "### Sex Ratio of DACA Recipients as of 2017"
   ]
  },
  {
   "cell_type": "code",
   "execution_count": 229,
   "metadata": {},
   "outputs": [
    {
     "data": {
      "image/png": "[encoded data removed]",
      "text/plain": [
       "<matplotlib.figure.Figure at 0x118a04518>"
      ]
     },
     "metadata": {},
     "output_type": "display_data"
    }
   ],
   "source": [
    "df_rec_sex = pd.read_excel('data/daca_sex_ratio.xls',header=1)\n",
    "df_rec_sex_top5 = df_rec_sex.head(5)\n",
    "sns.set()\n",
    "df_rec_sex_top5.sort_values(by='Recipients')[-5:].plot(x='Sex',kind='bar',figsize=(8,5))\n",
    "plt.xlabel('Sex')\n",
    "plt.ylabel('DACA Recipients')\n",
    "plt.title('Male vs Female Ratio from 2012-2017')\n",
    "tick_val = [100000,200000,300000,400000,500000]\n",
    "tick_lab = ['100k','200k','300k','400k','500k']\n",
    "plt.yticks(tick_val,tick_lab)\n",
    "plt.xticks(rotation=0)\n",
    "plt.show()"
   ]
  },
  {
   "cell_type": "markdown",
   "metadata": {},
   "source": [
    "### Age range of DACA Recipients as of 2017"
   ]
  },
  {
   "cell_type": "code",
   "execution_count": 228,
   "metadata": {},
   "outputs": [
    {
     "data": {
      "image/png": "[encoded data removed]",
      "text/plain": [
       "<matplotlib.figure.Figure at 0x1186a0be0>"
      ]
     },
     "metadata": {},
     "output_type": "display_data"
    }
   ],
   "source": [
    "df_rec_age = pd.read_excel('data/daca_recipients_age.xls',header=1)\n",
    "df_rec_age_top5 = df_rec_age.head(5)\n",
    "sns.set()\n",
    "df_rec_age_top5.sort_values(by='Recipients')[-5:].plot(x='Age',kind='bar',figsize=(8,5))\n",
    "plt.xlabel('Age Range')\n",
    "plt.ylabel('DACA Recipients')\n",
    "plt.title('Age Range of DACA Recipients from 2012-2017')\n",
    "tick_val = [100000,200000,300000,400000,500000]\n",
    "tick_lab = ['100k','200k','300k','400k','500k']\n",
    "plt.yticks(tick_val,tick_lab)\n",
    "plt.xticks(rotation=0)\n",
    "plt.show()"
   ]
  },
  {
   "cell_type": "markdown",
   "metadata": {},
   "source": [
    "### Maritial Status of DACA Recipients as of 2017"
   ]
  },
  {
   "cell_type": "code",
   "execution_count": 227,
   "metadata": {},
   "outputs": [
    {
     "data": {
      "image/png": "[encoded data removed]",
      "text/plain": [
       "<matplotlib.figure.Figure at 0x117ca4198>"
      ]
     },
     "metadata": {},
     "output_type": "display_data"
    }
   ],
   "source": [
    "df_rec_status = pd.read_excel('data/daca_recipients_status.xls',header=1)\n",
    "df_rec_status_top5 = df_rec_status.head(5)\n",
    "sns.set()\n",
    "df_rec_status_top5.sort_values(by='Recipients')[-5:].plot(x='Status',kind='bar',figsize=(8,5))\n",
    "plt.xlabel('Status')\n",
    "plt.ylabel('DACA Recipients')\n",
    "plt.title('Status of DACA Recipients from 2012-2017')\n",
    "tick_val = [100000,200000,300000,400000,500000]\n",
    "tick_lab = ['100k','200k','300k','400k','500k']\n",
    "plt.yticks(tick_val,tick_lab)\n",
    "plt.xticks(rotation=0)\n",
    "plt.show()"
   ]
  },
  {
   "cell_type": "markdown",
   "metadata": {},
   "source": [
    "### Calculate the number of countries benefited by DACA and their average mean"
   ]
  },
  {
   "cell_type": "code",
   "execution_count": 384,
   "metadata": {},
   "outputs": [
    {
     "name": "stdout",
     "output_type": "stream",
     "text": [
      "Number of countries: 151\n",
      "Mean excess DACA Recipient ratio: 4570.3974\n"
     ]
    }
   ],
   "source": [
    "# Remove all null from DACA country recipients\n",
    "df_rec_country_all = pd.read_excel('data/daca_recipients_country.xls',header=1)\n",
    "clean_df_rec_country_all = df_rec_country_all[np.logical_not(df_rec_country_all['Recipients'].isnull())]\n",
    "print('Number of countries: {}'.format(len(clean_df_rec_country_all)))\n",
    "print('Mean excess DACA Recipient ratio: {:.4f}'.format(clean_df_rec_country_all['Recipients'].mean()))"
   ]
  },
  {
   "cell_type": "markdown",
   "metadata": {},
   "source": [
    "### Let's divide the countries benefitted by DACA into two groups and calculate their mean\n",
    "1. Less than 1000 recipients\n",
    "2. More than 1000 recipients"
   ]
  },
  {
   "cell_type": "code",
   "execution_count": 385,
   "metadata": {},
   "outputs": [
    {
     "name": "stdout",
     "output_type": "stream",
     "text": [
      "Number of countries with < 1000 DACA Recipients: 126\n",
      "Mean excess Recipients rate: 141.984\n",
      "\n",
      "Number of countries with > 1000 DACA Recipients: 4\n",
      "Mean excess Recipients rate: 151925.000\n"
     ]
    }
   ],
   "source": [
    "\n",
    "df_less_1000 = clean_df_rec_country_all[(clean_df_rec_country_all['Recipients'] < 1000) & (clean_df_rec_country_all['Recipients'] > 0)]\n",
    "print('Number of countries with < 1000 DACA Recipients: {}'.format(len(df_less_1000)))\n",
    "print('Mean excess Recipients rate: {:.3f}'.format(df_less_1000['Recipients'].mean()))\n",
    "\n",
    "\n",
    "df_great_1000 = clean_df_rec_country_all[clean_df_rec_country_all['Recipients'] > 10000]\n",
    "print('\\nNumber of countries with > 1000 DACA Recipients: {}'.format(len(df_great_1000)))\n",
    "print('Mean excess Recipients rate: {:.3f}'.format(df_great_1000['Recipients'].mean()))\n"
   ]
  },
  {
   "cell_type": "markdown",
   "metadata": {},
   "source": [
    "### Compute and report the observed significance value (or p-value)."
   ]
  },
  {
   "cell_type": "code",
   "execution_count": 386,
   "metadata": {},
   "outputs": [
    {
     "name": "stdout",
     "output_type": "stream",
     "text": [
      "The 99% confidence interval about the mean difference is (-923030.943, 619464.912).\n",
      "The t-statistic is -7.392 and the p-value is 0.00000000.\n"
     ]
    }
   ],
   "source": [
    "import statsmodels.stats.api as sms\n",
    "from pandas.core import datetools\n",
    "two_sample = st.ttest_ind(df_less_1000['Recipients'], \n",
    "                          df_great_1000['Recipients'])\n",
    "cm = sms.CompareMeans(sms.DescrStatsW(df_less_1000['Recipients']), \n",
    "                      sms.DescrStatsW(df_great_1000['Recipients']))\n",
    "\n",
    "print('The 99% confidence interval about the mean difference is ({:.3f}, {:.3f}).'.format(cm.tconfint_diff(alpha = 0.01, usevar='unequal')[0],\n",
    "                                                                                          cm.tconfint_diff(alpha = 0.01, usevar='unequal')[1]))\n",
    "print('The t-statistic is %.3f and the p-value is %.8f.' % two_sample)"
   ]
  },
  {
   "cell_type": "markdown",
   "metadata": {},
   "source": [
    "### Plot a histogram for group less than 1000 recipients."
   ]
  },
  {
   "cell_type": "code",
   "execution_count": null,
   "metadata": {
    "collapsed": true,
    "scrolled": true
   },
   "outputs": [],
   "source": [
    "plt.hist(df_less_1000['Recipients'])\n",
    "plt.show()"
   ]
  },
  {
   "cell_type": "markdown",
   "metadata": {},
   "source": [
    "In the above figure, we clearly notice that the distribution is not a normal one.It is a left skewed plot."
   ]
  },
  {
   "cell_type": "markdown",
   "metadata": {},
   "source": [
    "### Calculate the ECDF and plot them in a graph"
   ]
  },
  {
   "cell_type": "code",
   "execution_count": 414,
   "metadata": {},
   "outputs": [
    {
     "name": "stderr",
     "output_type": "stream",
     "text": [
      "/Users/sunilayyappan/anaconda3/lib/python3.6/site-packages/ipykernel_launcher.py:2: SettingWithCopyWarning: \n",
      "A value is trying to be set on a copy of a slice from a DataFrame.\n",
      "Try using .loc[row_indexer,col_indexer] = value instead\n",
      "\n",
      "See the caveats in the documentation: http://pandas.pydata.org/pandas-docs/stable/indexing.html#indexing-view-versus-copy\n",
      "  \n"
     ]
    },
    {
     "data": {
      "text/html": [
       "<div>\n",
       "<style>\n",
       "    .dataframe thead tr:only-child th {\n",
       "        text-align: right;\n",
       "    }\n",
       "\n",
       "    .dataframe thead th {\n",
       "        text-align: left;\n",
       "    }\n",
       "\n",
       "    .dataframe tbody tr th {\n",
       "        vertical-align: top;\n",
       "    }\n",
       "</style>\n",
       "<table border=\"1\" class=\"dataframe\">\n",
       "  <thead>\n",
       "    <tr style=\"text-align: right;\">\n",
       "      <th></th>\n",
       "      <th>Country</th>\n",
       "      <th>Recipients</th>\n",
       "      <th>Yrows</th>\n",
       "      <th>Xcols</th>\n",
       "      <th>Country_Share</th>\n",
       "    </tr>\n",
       "  </thead>\n",
       "  <tbody>\n",
       "    <tr>\n",
       "      <th>24</th>\n",
       "      <td>Guyana</td>\n",
       "      <td>980</td>\n",
       "      <td>5.0</td>\n",
       "      <td>5.0</td>\n",
       "      <td>5.5</td>\n",
       "    </tr>\n",
       "    <tr>\n",
       "      <th>25</th>\n",
       "      <td>Belize</td>\n",
       "      <td>820</td>\n",
       "      <td>6.0</td>\n",
       "      <td>1.0</td>\n",
       "      <td>4.6</td>\n",
       "    </tr>\n",
       "    <tr>\n",
       "      <th>26</th>\n",
       "      <td>Canada</td>\n",
       "      <td>750</td>\n",
       "      <td>6.0</td>\n",
       "      <td>2.0</td>\n",
       "      <td>4.2</td>\n",
       "    </tr>\n",
       "    <tr>\n",
       "      <th>27</th>\n",
       "      <td>China, People's Republic</td>\n",
       "      <td>740</td>\n",
       "      <td>6.0</td>\n",
       "      <td>3.0</td>\n",
       "      <td>4.1</td>\n",
       "    </tr>\n",
       "    <tr>\n",
       "      <th>28</th>\n",
       "      <td>Indonesia</td>\n",
       "      <td>710</td>\n",
       "      <td>6.0</td>\n",
       "      <td>4.0</td>\n",
       "      <td>4.0</td>\n",
       "    </tr>\n",
       "    <tr>\n",
       "      <th>29</th>\n",
       "      <td>Kenya</td>\n",
       "      <td>700</td>\n",
       "      <td>6.0</td>\n",
       "      <td>5.0</td>\n",
       "      <td>3.9</td>\n",
       "    </tr>\n",
       "    <tr>\n",
       "      <th>30</th>\n",
       "      <td>Portugal</td>\n",
       "      <td>520</td>\n",
       "      <td>7.0</td>\n",
       "      <td>1.0</td>\n",
       "      <td>2.9</td>\n",
       "    </tr>\n",
       "    <tr>\n",
       "      <th>31</th>\n",
       "      <td>United Kingdom</td>\n",
       "      <td>500</td>\n",
       "      <td>7.0</td>\n",
       "      <td>2.0</td>\n",
       "      <td>2.8</td>\n",
       "    </tr>\n",
       "    <tr>\n",
       "      <th>32</th>\n",
       "      <td>Bangladesh</td>\n",
       "      <td>490</td>\n",
       "      <td>7.0</td>\n",
       "      <td>3.0</td>\n",
       "      <td>2.7</td>\n",
       "    </tr>\n",
       "    <tr>\n",
       "      <th>33</th>\n",
       "      <td>Ghana</td>\n",
       "      <td>490</td>\n",
       "      <td>7.0</td>\n",
       "      <td>4.0</td>\n",
       "      <td>2.7</td>\n",
       "    </tr>\n",
       "  </tbody>\n",
       "</table>\n",
       "</div>"
      ],
      "text/plain": [
       "                     Country  Recipients  Yrows  Xcols  Country_Share\n",
       "24                    Guyana         980    5.0    5.0            5.5\n",
       "25                    Belize         820    6.0    1.0            4.6\n",
       "26                    Canada         750    6.0    2.0            4.2\n",
       "27  China, People's Republic         740    6.0    3.0            4.1\n",
       "28                 Indonesia         710    6.0    4.0            4.0\n",
       "29                     Kenya         700    6.0    5.0            3.9\n",
       "30                  Portugal         520    7.0    1.0            2.9\n",
       "31            United Kingdom         500    7.0    2.0            2.8\n",
       "32                Bangladesh         490    7.0    3.0            2.7\n",
       "33                     Ghana         490    7.0    4.0            2.7"
      ]
     },
     "execution_count": 414,
     "metadata": {},
     "output_type": "execute_result"
    }
   ],
   "source": [
    "for lab, row in df_less_1000.iterrows() :\n",
    "    df_less_1000[\"Country_Share\"] = round(df_less_1000[\"Recipients\"]/df_less_1000['Recipients'].sum()  * 100,1)\n",
    "df_less_1000.head(10)"
   ]
  },
  {
   "cell_type": "code",
   "execution_count": 450,
   "metadata": {},
   "outputs": [
    {
     "data": {
      "image/png": "[encoded data removed]",
      "text/plain": [
       "<matplotlib.figure.Figure at 0x1c20b17320>"
      ]
     },
     "metadata": {},
     "output_type": "display_data"
    }
   ],
   "source": [
    "import numpy as np\n",
    "x= np.sort(df_less_1000['Country_Share'])\n",
    "y = np.arange(1,len(x) + 1)/len(x)\n",
    "_ = plt.plot(x,y,marker='.',linestyle='none')\n",
    "_ = plt.title('ECDF for Countries benefited by DACA with less than 1000 recipients')\n",
    "_ = plt.xlabel('Percent of DACA Recipients Share')\n",
    "_ = plt.ylabel('ECDF')\n",
    "plt.margins(0.05)"
   ]
  },
  {
   "cell_type": "markdown",
   "metadata": {},
   "source": [
    "### Calculate the median for the two groups (Less than 1000 and greater than 1000)"
   ]
  },
  {
   "cell_type": "code",
   "execution_count": 110,
   "metadata": {},
   "outputs": [
    {
     "name": "stdout",
     "output_type": "stream",
     "text": [
      "The number of countries which has more than 1000 recipients 4\n",
      "The median of these countries is 21800.0\n",
      "The number of countries which has less than 1000 recipients 126\n",
      "The median of these countries is 75.0\n"
     ]
    }
   ],
   "source": [
    "print('The number of countries which has more than 1000 recipients',len(df_great_1000))\n",
    "print('The median of these countries is',np.median(df_great_1000['Recipients']))\n",
    "\n",
    "print('The number of countries which has less than 1000 recipients',len(df_less_1000))\n",
    "print('The median of these countries is',np.median(df_less_1000['Recipients']))\n"
   ]
  },
  {
   "cell_type": "markdown",
   "metadata": {},
   "source": [
    "### Calculate the percentile for both groups"
   ]
  },
  {
   "cell_type": "code",
   "execution_count": 113,
   "metadata": {},
   "outputs": [
    {
     "name": "stdout",
     "output_type": "stream",
     "text": [
      "The percentile for countries having less than 1000 DACA Recipients  [  30.    75.   167.5]\n",
      "The percentile for countries having greater than 1000 DACA Recipients  [  17300.   21800.  156425.]\n"
     ]
    }
   ],
   "source": [
    "print('The percentile for countries having less than 1000 DACA Recipients ',np.percentile(df_less_1000['Recipients'],[25,50,75]))\n",
    "print('The percentile for countries having greater than 1000 DACA Recipients ',np.percentile(df_great_1000['Recipients'],[25,50,75]))"
   ]
  },
  {
   "cell_type": "markdown",
   "metadata": {},
   "source": [
    "### Calculate the variance"
   ]
  },
  {
   "cell_type": "code",
   "execution_count": 195,
   "metadata": {},
   "outputs": [
    {
     "name": "stdout",
     "output_type": "stream",
     "text": [
      "The variance for countries less than 1000 DACA recipients Recipients    183.532445\n",
      "dtype: float64\n",
      "The variance for countries less than 1000 DACA recipients Recipients    228704.223562\n",
      "dtype: float64\n"
     ]
    }
   ],
   "source": [
    "print('The variance for countries less than 1000 DACA recipients',np.sqrt(np.var(df_less_1000)))\n",
    "print('The variance for countries less than 1000 DACA recipients',np.sqrt(np.var(df_great_1000)))"
   ]
  },
  {
   "cell_type": "markdown",
   "metadata": {},
   "source": [
    "### Calculate the Logistic Regression for Overall Case Status"
   ]
  },
  {
   "cell_type": "code",
   "execution_count": 429,
   "metadata": {},
   "outputs": [
    {
     "data": {
      "text/html": [
       "<div>\n",
       "<style>\n",
       "    .dataframe thead tr:only-child th {\n",
       "        text-align: right;\n",
       "    }\n",
       "\n",
       "    .dataframe thead th {\n",
       "        text-align: left;\n",
       "    }\n",
       "\n",
       "    .dataframe tbody tr th {\n",
       "        vertical-align: top;\n",
       "    }\n",
       "</style>\n",
       "<table border=\"1\" class=\"dataframe\">\n",
       "  <thead>\n",
       "    <tr style=\"text-align: right;\">\n",
       "      <th></th>\n",
       "      <th>Year</th>\n",
       "      <th>Type</th>\n",
       "      <th>Accepted</th>\n",
       "      <th>Rejected</th>\n",
       "      <th>Received</th>\n",
       "      <th>Average</th>\n",
       "      <th>Biometrics</th>\n",
       "      <th>Review</th>\n",
       "      <th>Approved</th>\n",
       "      <th>Denied</th>\n",
       "      <th>Pending</th>\n",
       "      <th>Target</th>\n",
       "    </tr>\n",
       "  </thead>\n",
       "  <tbody>\n",
       "    <tr>\n",
       "      <th>0</th>\n",
       "      <td>2012</td>\n",
       "      <td>Initial</td>\n",
       "      <td>152431</td>\n",
       "      <td>5395</td>\n",
       "      <td>157826</td>\n",
       "      <td>3629</td>\n",
       "      <td>124055.0</td>\n",
       "      <td>38024.0</td>\n",
       "      <td>1680</td>\n",
       "      <td>0</td>\n",
       "      <td>150751</td>\n",
       "      <td>1</td>\n",
       "    </tr>\n",
       "    <tr>\n",
       "      <th>1</th>\n",
       "      <td>2013</td>\n",
       "      <td>Initial</td>\n",
       "      <td>427616</td>\n",
       "      <td>16351</td>\n",
       "      <td>443967</td>\n",
       "      <td>1697</td>\n",
       "      <td>445013.0</td>\n",
       "      <td>77747.0</td>\n",
       "      <td>470352</td>\n",
       "      <td>10975</td>\n",
       "      <td>97040</td>\n",
       "      <td>0</td>\n",
       "    </tr>\n",
       "    <tr>\n",
       "      <th>2</th>\n",
       "      <td>2014</td>\n",
       "      <td>Initial</td>\n",
       "      <td>122424</td>\n",
       "      <td>19127</td>\n",
       "      <td>141551</td>\n",
       "      <td>488</td>\n",
       "      <td>NaN</td>\n",
       "      <td>NaN</td>\n",
       "      <td>136101</td>\n",
       "      <td>20989</td>\n",
       "      <td>62374</td>\n",
       "      <td>1</td>\n",
       "    </tr>\n",
       "    <tr>\n",
       "      <th>3</th>\n",
       "      <td>2014</td>\n",
       "      <td>Renewal</td>\n",
       "      <td>116476</td>\n",
       "      <td>5760</td>\n",
       "      <td>122236</td>\n",
       "      <td>1370</td>\n",
       "      <td>NaN</td>\n",
       "      <td>NaN</td>\n",
       "      <td>22235</td>\n",
       "      <td>0</td>\n",
       "      <td>94238</td>\n",
       "      <td>0</td>\n",
       "    </tr>\n",
       "    <tr>\n",
       "      <th>4</th>\n",
       "      <td>2015</td>\n",
       "      <td>Initial</td>\n",
       "      <td>85303</td>\n",
       "      <td>7477</td>\n",
       "      <td>92780</td>\n",
       "      <td>338</td>\n",
       "      <td>NaN</td>\n",
       "      <td>NaN</td>\n",
       "      <td>90613</td>\n",
       "      <td>19070</td>\n",
       "      <td>37994</td>\n",
       "      <td>1</td>\n",
       "    </tr>\n",
       "  </tbody>\n",
       "</table>\n",
       "</div>"
      ],
      "text/plain": [
       "   Year     Type  Accepted  Rejected  Received  Average  Biometrics   Review  \\\n",
       "0  2012  Initial    152431      5395    157826     3629    124055.0  38024.0   \n",
       "1  2013  Initial    427616     16351    443967     1697    445013.0  77747.0   \n",
       "2  2014  Initial    122424     19127    141551      488         NaN      NaN   \n",
       "3  2014  Renewal    116476      5760    122236     1370         NaN      NaN   \n",
       "4  2015  Initial     85303      7477     92780      338         NaN      NaN   \n",
       "\n",
       "   Approved  Denied  Pending  Target  \n",
       "0      1680       0   150751       1  \n",
       "1    470352   10975    97040       0  \n",
       "2    136101   20989    62374       1  \n",
       "3     22235       0    94238       0  \n",
       "4     90613   19070    37994       1  "
      ]
     },
     "execution_count": 429,
     "metadata": {},
     "output_type": "execute_result"
    }
   ],
   "source": [
    "df_case_status = df = pd.read_excel('data/case-status.xls',header=1)\n",
    "df_case_status.head()"
   ]
  },
  {
   "cell_type": "code",
   "execution_count": 430,
   "metadata": {
    "collapsed": true
   },
   "outputs": [],
   "source": [
    "from scipy.stats import spearmanr\n",
    "import sklearn\n",
    "from sklearn.preprocessing import scale\n",
    "from sklearn.linear_model import LogisticRegression\n",
    "from sklearn.model_selection import train_test_split\n",
    "from sklearn import metrics\n",
    "from sklearn import preprocessing"
   ]
  },
  {
   "cell_type": "code",
   "execution_count": 436,
   "metadata": {},
   "outputs": [],
   "source": [
    "case_data = df_case_status.ix[:,(8,9)].values\n",
    "case_data_name = ['Appr','Deny']\n",
    "y = df_case_status.ix[:,11].values"
   ]
  },
  {
   "cell_type": "markdown",
   "metadata": {},
   "source": [
    "#Checking for independence between features"
   ]
  },
  {
   "cell_type": "code",
   "execution_count": 435,
   "metadata": {},
   "outputs": [
    {
     "data": {
      "text/plain": [
       "<matplotlib.axes._subplots.AxesSubplot at 0x1c257d75c0>"
      ]
     },
     "execution_count": 435,
     "metadata": {},
     "output_type": "execute_result"
    },
    {
     "data": {
      "image/png": "[encoded data removed]",
      "text/plain": [
       "<matplotlib.figure.Figure at 0x1c257d7438>"
      ]
     },
     "metadata": {},
     "output_type": "display_data"
    }
   ],
   "source": [
    "sns.regplot(x='Approved',y='Denied',data=df_case_status,scatter=True)"
   ]
  },
  {
   "cell_type": "code",
   "execution_count": 437,
   "metadata": {},
   "outputs": [
    {
     "name": "stdout",
     "output_type": "stream",
     "text": [
      "Spearmanr Rank Correlation Coefficient 0.267\n"
     ]
    }
   ],
   "source": [
    "Appr = df_case_status['Approved']\n",
    "Deny = df_case_status['Denied']\n",
    "spearmanr_coefficient,p_value = spearmanr(Appr,Deny)\n",
    "print('Spearmanr Rank Correlation Coefficient %0.3f' % spearmanr_coefficient )"
   ]
  },
  {
   "cell_type": "markdown",
   "metadata": {},
   "source": [
    "#Check for missing values"
   ]
  },
  {
   "cell_type": "code",
   "execution_count": 438,
   "metadata": {},
   "outputs": [
    {
     "data": {
      "text/plain": [
       "Year          0\n",
       "Type          0\n",
       "Accepted      0\n",
       "Rejected      0\n",
       "Received      0\n",
       "Average       0\n",
       "Biometrics    8\n",
       "Review        8\n",
       "Approved      0\n",
       "Denied        0\n",
       "Pending       0\n",
       "Target        0\n",
       "dtype: int64"
      ]
     },
     "execution_count": 438,
     "metadata": {},
     "output_type": "execute_result"
    }
   ],
   "source": [
    "df_case_status.isnull().sum()"
   ]
  },
  {
   "cell_type": "markdown",
   "metadata": {},
   "source": [
    "#Check that your target variable is binary or cardinal"
   ]
  },
  {
   "cell_type": "code",
   "execution_count": 439,
   "metadata": {},
   "outputs": [
    {
     "data": {
      "text/plain": [
       "<matplotlib.axes._subplots.AxesSubplot at 0x1c25a2e208>"
      ]
     },
     "execution_count": 439,
     "metadata": {},
     "output_type": "execute_result"
    },
    {
     "data": {
      "image/png": "[encoded data removed]",
      "text/plain": [
       "<matplotlib.figure.Figure at 0x1c22f1e710>"
      ]
     },
     "metadata": {},
     "output_type": "display_data"
    }
   ],
   "source": [
    "sns.countplot(x='Target',data =df_case_status,palette='hls' )"
   ]
  },
  {
   "cell_type": "markdown",
   "metadata": {},
   "source": [
    "#Checks the size of data is sufficient"
   ]
  },
  {
   "cell_type": "code",
   "execution_count": 440,
   "metadata": {},
   "outputs": [
    {
     "name": "stdout",
     "output_type": "stream",
     "text": [
      "<class 'pandas.core.frame.DataFrame'>\n",
      "RangeIndex: 10 entries, 0 to 9\n",
      "Data columns (total 12 columns):\n",
      "Year          10 non-null int64\n",
      "Type          10 non-null object\n",
      "Accepted      10 non-null int64\n",
      "Rejected      10 non-null int64\n",
      "Received      10 non-null int64\n",
      "Average       10 non-null int64\n",
      "Biometrics    2 non-null float64\n",
      "Review        2 non-null float64\n",
      "Approved      10 non-null int64\n",
      "Denied        10 non-null int64\n",
      "Pending       10 non-null int64\n",
      "Target        10 non-null int64\n",
      "dtypes: float64(2), int64(9), object(1)\n",
      "memory usage: 1.0+ KB\n"
     ]
    }
   ],
   "source": [
    "df_case_status.info()"
   ]
  },
  {
   "cell_type": "markdown",
   "metadata": {},
   "source": [
    "We need to have atleast 50 observations for each predictor. We are using 2 predictor so we should have atleast 100 observation. But as per the information above we only have 10 observation. For the purpose of this demonstration we will continue to work with the Logistic model."
   ]
  },
  {
   "cell_type": "markdown",
   "metadata": {},
   "source": [
    "#Deploying and Evaluating the model"
   ]
  },
  {
   "cell_type": "code",
   "execution_count": 442,
   "metadata": {},
   "outputs": [
    {
     "name": "stderr",
     "output_type": "stream",
     "text": [
      "/Users/sunilayyappan/anaconda3/lib/python3.6/site-packages/sklearn/utils/validation.py:475: DataConversionWarning: Data with input dtype int64 was converted to float64 by the scale function.\n",
      "  warnings.warn(msg, DataConversionWarning)\n"
     ]
    }
   ],
   "source": [
    "X = scale(case_data)"
   ]
  },
  {
   "cell_type": "code",
   "execution_count": 444,
   "metadata": {},
   "outputs": [
    {
     "name": "stdout",
     "output_type": "stream",
     "text": [
      "1.0\n"
     ]
    }
   ],
   "source": [
    "LogReg = LogisticRegression()\n",
    "LogReg.fit(X,y)\n",
    "print (LogReg.score(X,y))"
   ]
  },
  {
   "cell_type": "code",
   "execution_count": 446,
   "metadata": {},
   "outputs": [
    {
     "name": "stdout",
     "output_type": "stream",
     "text": [
      "             precision    recall  f1-score   support\n",
      "\n",
      "          0       1.00      1.00      1.00         5\n",
      "          1       1.00      1.00      1.00         5\n",
      "\n",
      "avg / total       1.00      1.00      1.00        10\n",
      "\n"
     ]
    }
   ],
   "source": [
    "y_pred = LogReg.predict(X)\n",
    "from sklearn.metrics import classification_report\n",
    "print(classification_report(y,y_pred))"
   ]
  },
  {
   "cell_type": "markdown",
   "metadata": {},
   "source": [
    "#Conclusion\n",
    "We see that total precision is 1, recall is 1 which seems to be a perfect fit. Even though the datasets were not sufficient to explore the logistic model, We have walked through the complete logistic model. "
   ]
  }
 ],
 "metadata": {
  "kernelspec": {
   "display_name": "Python 3",
   "language": "python",
   "name": "python3"
  },
  "language_info": {
   "codemirror_mode": {
    "name": "ipython",
    "version": 3
   },
   "file_extension": ".py",
   "mimetype": "text/x-python",
   "name": "python",
   "nbconvert_exporter": "python",
   "pygments_lexer": "ipython3",
   "version": "3.6.3"
  }
 },
 "nbformat": 4,
 "nbformat_minor": 2
}
