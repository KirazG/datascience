{
 "cells": [
  {
   "attachments": {},
   "cell_type": "markdown",
   "metadata": {},
   "source": [
    "# Data Wrangling\n",
    "## Introduction\n",
    "An explorative analysis on the country and states in the US affected by the Deferred Action for Childhood Arrivals (DACA). To study and analyze the impact of DACA and recent trends as per the last four quarters in 2017.\n",
    "\n",
    "## How data is collected?\n",
    "\n",
    "- Data will be collected from the USCIS link for the 2017 and 2016.\n",
    "\n",
    "- All data will be converted from PDF to excel data.\n",
    "\n",
    "- Data will be divided into four parts – Case status, Country Status, States Status and 2017 Status\n",
    "\n",
    "## Common Problems Found in Datasets\n",
    "\n",
    "- Inconsistent column names\n",
    "- Missing Data\n",
    "- Outliners\n",
    "- Duplicate rows\n",
    "- Untidy\n",
    "- Need to process columns\n",
    "- Column type signal unexpected data values\n",
    "\n",
    "Let’s go over each problem and what I did to wrangle the data."
   ]
  },
  {
   "cell_type": "markdown",
   "metadata": {},
   "source": [
    "### Inconsistent column names \n",
    "Downloaded the pdf from the USCIS site and convert that into excel sheet using an online tool. Now the headings are inconsistent with title case, uppercase and some space. Load the data into pandas and checked how inconsistent the column headers using columns(). All examples shown below."
   ]
  },
  {
   "cell_type": "code",
   "execution_count": 1,
   "metadata": {},
   "outputs": [
    {
     "data": {
      "text/plain": [
       "Index(['Quarter', 'Type', 'Accepted', 'Rejected', 'Received', 'Average',\n",
       "       'Approved', 'Denied', 'Pending'],\n",
       "      dtype='object')"
      ]
     },
     "execution_count": 1,
     "metadata": {},
     "output_type": "execute_result"
    }
   ],
   "source": [
    "import pandas as pd\n",
    "df = pd.read_excel('data/2017-status.xls',header=1)\n",
    "df.columns"
   ]
  },
  {
   "cell_type": "code",
   "execution_count": 2,
   "metadata": {},
   "outputs": [
    {
     "data": {
      "text/plain": [
       "Index(['Year', 'Type', 'Accepted', 'Rejected', 'Received', 'Average',\n",
       "       'Biometrics', 'Review', 'Approved', 'Denied', 'Pending'],\n",
       "      dtype='object')"
      ]
     },
     "execution_count": 2,
     "metadata": {},
     "output_type": "execute_result"
    }
   ],
   "source": [
    "import pandas as pd\n",
    "df = pd.read_excel('data/case-status.xls',header=1)\n",
    "df.columns"
   ]
  },
  {
   "cell_type": "code",
   "execution_count": 3,
   "metadata": {},
   "outputs": [
    {
     "data": {
      "text/plain": [
       "Index(['Country', 'Initials-Accepted', 'Initials-Approved',\n",
       "       'Renewals-Accepted', 'Renewals-Approved', 'Total-Accepted',\n",
       "       'Total-Approved'],\n",
       "      dtype='object')"
      ]
     },
     "execution_count": 3,
     "metadata": {},
     "output_type": "execute_result"
    }
   ],
   "source": [
    "import pandas as pd\n",
    "df = pd.read_excel('data/country-status.xls',header=1)\n",
    "df.columns"
   ]
  },
  {
   "cell_type": "code",
   "execution_count": 4,
   "metadata": {},
   "outputs": [
    {
     "data": {
      "text/plain": [
       "Index(['State', 'Initials-Accepted', 'Initials-Approved', 'Renewals-Accepted',\n",
       "       'Renewals-Approved', 'Total-Accepted', 'Total-Approved'],\n",
       "      dtype='object')"
      ]
     },
     "execution_count": 4,
     "metadata": {},
     "output_type": "execute_result"
    }
   ],
   "source": [
    "import pandas as pd\n",
    "df = pd.read_excel('data/us-states-summary.xls',header=1)\n",
    "df.columns"
   ]
  },
  {
   "cell_type": "markdown",
   "metadata": {},
   "source": [
    "### Missing data\n",
    "Using shape() functionality checked the states summary to see whether any data is missing. As you see below the number of states returned is 61 with 7 columns. On investigating further found out there was some null rows, one row with state name as ‘missing’ and few other rows with values which are not states of US but considered as region.\n"
   ]
  },
  {
   "cell_type": "code",
   "execution_count": 5,
   "metadata": {},
   "outputs": [
    {
     "data": {
      "text/plain": [
       "(61, 7)"
      ]
     },
     "execution_count": 5,
     "metadata": {},
     "output_type": "execute_result"
    }
   ],
   "source": [
    "df.shape"
   ]
  },
  {
   "cell_type": "markdown",
   "metadata": {},
   "source": [
    "|![image](https://raw.githubusercontent.com/sunilayyaps/datascience/master/capstone-project1/DataCleaning/images/Picture1.png)|![image](https://raw.githubusercontent.com/sunilayyaps/datascience/master/capstone-project1/DataCleaning/images/Picture2.png)|![image](https://raw.githubusercontent.com/sunilayyaps/datascience/master/capstone-project1/DataCleaning/images/Picture3.png)|\n",
    "|------|------|\n",
    "|     | |"
   ]
  },
  {
   "cell_type": "markdown",
   "metadata": {},
   "source": [
    "### Checking data types for all data\n",
    "Using info() to get additional information about each dataset. On examining the results found that case-status datasets has total of 10 rows but column Biometrics scheduled and request under review had only 2 values. So there were 8 missing values. Also in the same data sets noticed that these two columns are of datatype float64 and Denied column is object data type which will be treated like string. Denied column should have been int64 datatype.\n"
   ]
  },
  {
   "cell_type": "code",
   "execution_count": 6,
   "metadata": {},
   "outputs": [
    {
     "name": "stdout",
     "output_type": "stream",
     "text": [
      "<class 'pandas.core.frame.DataFrame'>\n",
      "RangeIndex: 8 entries, 0 to 7\n",
      "Data columns (total 9 columns):\n",
      "Quarter     8 non-null object\n",
      "Type        8 non-null object\n",
      "Accepted    8 non-null int64\n",
      "Rejected    8 non-null int64\n",
      "Received    8 non-null int64\n",
      "Average     8 non-null int64\n",
      "Approved    8 non-null int64\n",
      "Denied      8 non-null int64\n",
      "Pending     8 non-null int64\n",
      "dtypes: int64(7), object(2)\n",
      "memory usage: 656.0+ bytes\n"
     ]
    }
   ],
   "source": [
    "import pandas as pd\n",
    "df = pd.read_excel('data/2017-status.xls',header=1)\n",
    "df.info()"
   ]
  },
  {
   "cell_type": "code",
   "execution_count": 7,
   "metadata": {},
   "outputs": [
    {
     "name": "stdout",
     "output_type": "stream",
     "text": [
      "<class 'pandas.core.frame.DataFrame'>\n",
      "RangeIndex: 10 entries, 0 to 9\n",
      "Data columns (total 11 columns):\n",
      "Year          10 non-null int64\n",
      "Type          10 non-null object\n",
      "Accepted      10 non-null int64\n",
      "Rejected      10 non-null int64\n",
      "Received      10 non-null int64\n",
      "Average       10 non-null int64\n",
      "Biometrics    2 non-null float64\n",
      "Review        2 non-null float64\n",
      "Approved      10 non-null int64\n",
      "Denied        10 non-null int64\n",
      "Pending       10 non-null int64\n",
      "dtypes: float64(2), int64(8), object(1)\n",
      "memory usage: 960.0+ bytes\n"
     ]
    }
   ],
   "source": [
    "import pandas as pd\n",
    "df = pd.read_excel('data/case-status.xls',header=1)\n",
    "df.info()"
   ]
  },
  {
   "cell_type": "code",
   "execution_count": 8,
   "metadata": {},
   "outputs": [
    {
     "name": "stdout",
     "output_type": "stream",
     "text": [
      "<class 'pandas.core.frame.DataFrame'>\n",
      "RangeIndex: 25 entries, 0 to 24\n",
      "Data columns (total 7 columns):\n",
      "Country              25 non-null object\n",
      "Initials-Accepted    25 non-null int64\n",
      "Initials-Approved    25 non-null int64\n",
      "Renewals-Accepted    25 non-null int64\n",
      "Renewals-Approved    25 non-null int64\n",
      "Total-Accepted       25 non-null int64\n",
      "Total-Approved       25 non-null int64\n",
      "dtypes: int64(6), object(1)\n",
      "memory usage: 1.4+ KB\n"
     ]
    }
   ],
   "source": [
    "import pandas as pd\n",
    "df = pd.read_excel('data/country-status.xls',header=1)\n",
    "df.info()"
   ]
  },
  {
   "cell_type": "code",
   "execution_count": 9,
   "metadata": {},
   "outputs": [
    {
     "name": "stdout",
     "output_type": "stream",
     "text": [
      "<class 'pandas.core.frame.DataFrame'>\n",
      "RangeIndex: 61 entries, 0 to 60\n",
      "Data columns (total 7 columns):\n",
      "State                61 non-null object\n",
      "Initials-Accepted    61 non-null int64\n",
      "Initials-Approved    61 non-null int64\n",
      "Renewals-Accepted    61 non-null int64\n",
      "Renewals-Approved    61 non-null int64\n",
      "Total-Accepted       61 non-null int64\n",
      "Total-Approved       61 non-null int64\n",
      "dtypes: int64(6), object(1)\n",
      "memory usage: 3.4+ KB\n"
     ]
    }
   ],
   "source": [
    "import pandas as pd\n",
    "df = pd.read_excel('data/us-states-summary.xls',header=1)\n",
    "df.info()"
   ]
  },
  {
   "cell_type": "markdown",
   "metadata": {},
   "source": [
    "### Detect Outliers using Data visualization\n",
    "Using histogram checked the number of approved case status for all the cases and the number does look fine. \n"
   ]
  },
  {
   "cell_type": "code",
   "execution_count": 27,
   "metadata": {},
   "outputs": [
    {
     "data": {
      "image/png": "[encoded data removed]",
      "text/plain": [
       "<matplotlib.figure.Figure at 0x11020d860>"
      ]
     },
     "metadata": {},
     "output_type": "display_data"
    }
   ],
   "source": [
    "import pandas as pd\n",
    "import matplotlib.pyplot as plt\n",
    "df = pd.read_excel('data/case-status.xls',header=1)\n",
    "df.Approved.plot('hist')\n",
    "plt.show()"
   ]
  },
  {
   "cell_type": "markdown",
   "metadata": {},
   "source": []
  },
  {
   "cell_type": "code",
   "execution_count": 2,
   "metadata": {},
   "outputs": [
    {
     "data": {
      "image/png": "[encoded data removed]",
      "text/plain": [
       "<matplotlib.figure.Figure at 0x110adceb8>"
      ]
     },
     "metadata": {},
     "output_type": "display_data"
    }
   ],
   "source": [
    "import pandas as pd\n",
    "import matplotlib.pyplot as plt\n",
    "df = pd.read_excel('data/2017-status.xls',header=1)\n",
    "df.boxplot(column='Approved',by='Quarter')\n",
    "plt.show()"
   ]
  },
  {
   "cell_type": "markdown",
   "metadata": {},
   "source": [
    "### PIVOT: UN-MELTING DATA\n",
    "The raw data provided by the USCIS website was not normalized. So, I had to normalize the data while converting it into excel. This was done prior to importing the dataset in python. But I had to pivot the data to group by year to convert the data from Analysis friendly shape to reporting friendly shape."
   ]
  },
  {
   "cell_type": "code",
   "execution_count": 1,
   "metadata": {},
   "outputs": [
    {
     "name": "stdout",
     "output_type": "stream",
     "text": [
      "Type     Initial   Renewal\n",
      "Quarter                   \n",
      "Q1-2017     18239   103680\n",
      "Q2-2017     17220   107480\n",
      "Q3-2017      5827    96682\n",
      "Q4-2017      6159   107426\n"
     ]
    }
   ],
   "source": [
    "import pandas as pd\n",
    "import matplotlib.pyplot as plt\n",
    "df = pd.read_excel('data/2017-status.xls',header=1)\n",
    "daca_tidy= df.pivot(index='Quarter',columns ='Type',values='Approved')\n",
    "print(daca_tidy)"
   ]
  },
  {
   "cell_type": "markdown",
   "metadata": {},
   "source": [
    "### PIVOT Table Method\n",
    "This method was not needed as there were no duplicates in any of the datasets."
   ]
  }
 ],
 "metadata": {
  "kernelspec": {
   "display_name": "Python 3",
   "language": "python",
   "name": "python3"
  },
  "language_info": {
   "codemirror_mode": {
    "name": "ipython",
    "version": 3
   },
   "file_extension": ".py",
   "mimetype": "text/x-python",
   "name": "python",
   "nbconvert_exporter": "python",
   "pygments_lexer": "ipython3",
   "version": "3.6.3"
  }
 },
 "nbformat": 4,
 "nbformat_minor": 2
}
