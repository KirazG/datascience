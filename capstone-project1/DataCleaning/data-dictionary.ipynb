{
 "cells": [
  {
   "cell_type": "code",
   "execution_count": 2,
   "metadata": {
    "scrolled": true
   },
   "outputs": [
    {
     "name": "stdout",
     "output_type": "stream",
     "text": [
      "<class 'pandas.core.frame.DataFrame'>\n",
      "RangeIndex: 10 entries, 0 to 9\n",
      "Data columns (total 11 columns):\n",
      "Year          10 non-null int64\n",
      "Type          10 non-null object\n",
      "Accepted      10 non-null int64\n",
      "Rejected      10 non-null int64\n",
      "Received      10 non-null int64\n",
      "Average       10 non-null int64\n",
      "Biometrics    2 non-null float64\n",
      "Review        2 non-null float64\n",
      "Approved      10 non-null int64\n",
      "Denied        10 non-null int64\n",
      "Pending       10 non-null int64\n",
      "dtypes: float64(2), int64(8), object(1)\n",
      "memory usage: 960.0+ bytes\n"
     ]
    }
   ],
   "source": [
    "import pandas as pd\n",
    "df = pd.read_excel('data/case-status.xls',header=1)\n",
    "df.info()"
   ]
  },
  {
   "cell_type": "code",
   "execution_count": 3,
   "metadata": {},
   "outputs": [
    {
     "name": "stdout",
     "output_type": "stream",
     "text": [
      "<class 'pandas.core.frame.DataFrame'>\n",
      "RangeIndex: 8 entries, 0 to 7\n",
      "Data columns (total 9 columns):\n",
      "Quarter     8 non-null object\n",
      "Type        8 non-null object\n",
      "Accepted    8 non-null int64\n",
      "Rejected    8 non-null int64\n",
      "Received    8 non-null int64\n",
      "Average     8 non-null int64\n",
      "Approved    8 non-null int64\n",
      "Denied      8 non-null int64\n",
      "Pending     8 non-null int64\n",
      "dtypes: int64(7), object(2)\n",
      "memory usage: 656.0+ bytes\n"
     ]
    }
   ],
   "source": [
    "df = pd.read_excel('data/2017-status.xls',header=1)\n",
    "df.info()"
   ]
  },
  {
   "cell_type": "code",
   "execution_count": 4,
   "metadata": {},
   "outputs": [
    {
     "name": "stdout",
     "output_type": "stream",
     "text": [
      "<class 'pandas.core.frame.DataFrame'>\n",
      "RangeIndex: 25 entries, 0 to 24\n",
      "Data columns (total 7 columns):\n",
      "Country              25 non-null object\n",
      "Initials-Accepted    25 non-null int64\n",
      "Initials-Approved    25 non-null int64\n",
      "Renewals-Accepted    25 non-null int64\n",
      "Renewals-Approved    25 non-null int64\n",
      "Total-Accepted       25 non-null int64\n",
      "Total-Approved       25 non-null int64\n",
      "dtypes: int64(6), object(1)\n",
      "memory usage: 1.4+ KB\n"
     ]
    }
   ],
   "source": [
    "df = pd.read_excel('data/country-status.xls',header=1)\n",
    "df.info()"
   ]
  },
  {
   "cell_type": "code",
   "execution_count": 5,
   "metadata": {},
   "outputs": [
    {
     "name": "stdout",
     "output_type": "stream",
     "text": [
      "<class 'pandas.core.frame.DataFrame'>\n",
      "RangeIndex: 61 entries, 0 to 60\n",
      "Data columns (total 7 columns):\n",
      "State                61 non-null object\n",
      "Initials-Accepted    61 non-null int64\n",
      "Initials-Approved    61 non-null int64\n",
      "Renewals-Accepted    61 non-null int64\n",
      "Renewals-Approved    61 non-null int64\n",
      "Total-Accepted       61 non-null int64\n",
      "Total-Approved       61 non-null int64\n",
      "dtypes: int64(6), object(1)\n",
      "memory usage: 3.4+ KB\n"
     ]
    }
   ],
   "source": [
    "df = pd.read_excel('data/us-states-summary.xls',header=1)\n",
    "df.info()"
   ]
  },
  {
   "cell_type": "code",
   "execution_count": null,
   "metadata": {
    "collapsed": true
   },
   "outputs": [],
   "source": []
  }
 ],
 "metadata": {
  "kernelspec": {
   "display_name": "Python 3",
   "language": "python",
   "name": "python3"
  },
  "language_info": {
   "codemirror_mode": {
    "name": "ipython",
    "version": 3
   },
   "file_extension": ".py",
   "mimetype": "text/x-python",
   "name": "python",
   "nbconvert_exporter": "python",
   "pygments_lexer": "ipython3",
   "version": "3.6.3"
  }
 },
 "nbformat": 4,
 "nbformat_minor": 2
}
